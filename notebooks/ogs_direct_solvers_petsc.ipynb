{
 "cells": [
  {
   "cell_type": "markdown",
   "id": "31649ddf-9f86-41ac-a761-1b3de4ed84f6",
   "metadata": {},
   "source": [
    "# <p style=\"text-align: center;\">Direct solver comparison in OGS</p>\n",
    "\n",
    "## Machine: Intel(R) Core(TM) i7-8565U CPU @ 1.80GHz\n",
    "\n",
    "## Model: ThermoRichardsMechanics (2D) 40 000 nodes 10 time steps"
   ]
  },
  {
   "cell_type": "code",
   "execution_count": 1,
   "id": "064024ac-052b-4e0c-8d5e-f5e1b1f1dec4",
   "metadata": {},
   "outputs": [],
   "source": [
    "from ogs6py.ogs import OGS\n",
    "import numpy as np\n",
    "import matplotlib.pyplot as plt\n",
    "import plot_settings"
   ]
  },
  {
   "cell_type": "code",
   "execution_count": 2,
   "id": "b5a82938",
   "metadata": {},
   "outputs": [],
   "source": [
    "runs=10"
   ]
  },
  {
   "cell_type": "code",
   "execution_count": 3,
   "id": "0c0cb00d-4af4-402a-a339-277772596fa7",
   "metadata": {},
   "outputs": [],
   "source": [
    "folder= \"/home/buchwalj/OGS_Solver_Comparison/data/sims/Petsc_direct_solver_comparison\""
   ]
  },
  {
   "cell_type": "code",
   "execution_count": 4,
   "id": "cac8fb6d-964d-4e9b-9f3b-977a7994a203",
   "metadata": {},
   "outputs": [],
   "source": [
    "solvers = [\"PETSc/SuperLU\", \"PETSc/MUMPS\", \"PETSc/MKL-Pardiso\"]"
   ]
  },
  {
   "cell_type": "code",
   "execution_count": 5,
   "id": "bfcb58d1",
   "metadata": {},
   "outputs": [],
   "source": [
    "omp_runs = [4]\n",
    "mpi_runs = [4]"
   ]
  },
  {
   "cell_type": "code",
   "execution_count": 6,
   "id": "4d1c88fb-9d7b-4afd-a54d-d44f4de09901",
   "metadata": {},
   "outputs": [],
   "source": [
    "def setSolverOMP(fileobject, solver):\n",
    "    if solver == \"PETSc/SuperLU\":\n",
    "        fileobject.replace_text(\"-pc_type lu -pc_factor_mat_solver_type superlu_dist\", xpath=\"./linear_solvers/linear_solver/petsc/parameters\")\n",
    "        fileobject.write_input()\n",
    "        fileobject.run_model(path=\"/home/buchwalj/github/ogs/build_mkl_petsc/bin\", logfile=f\"{folder}/superlu.out\")\n",
    "        #, wrapper=\"source /opt/intel/oneapi/setvars.sh intel64 &&\")\n",
    "    elif solver == \"PETSc/MUMPS\":\n",
    "        fileobject.replace_text(\"-pc_type lu -pc_factor_mat_solver_type mumps\", xpath=\"./linear_solvers/linear_solver/petsc/parameters\")\n",
    "        fileobject.write_input()\n",
    "        fileobject.run_model(path=\"/home/buchwalj/github/ogs/build_mkl_petsc/bin\", logfile=f\"{folder}/mumps.out\")\n",
    "                             #, wrapper=\"source /opt/intel/oneapi/setvars.sh intel64 &&\")\n",
    "    elif solver == \"PETSc/MKL-Pardiso\":\n",
    "        fileobject.replace_text(\"-pc_type lu -pc_factor_mat_solver_type mkl_pardiso\", xpath=\"./linear_solvers/linear_solver/petsc/parameters\")\n",
    "        fileobject.write_input()\n",
    "        fileobject.run_model(path=\"/home/buchwalj/github/ogs/build_mkl_petsc/bin\", logfile=f\"{folder}/mkl-pardiso.out\")\n",
    "        #, wrapper=\"source /opt/intel/oneapi/setvars.sh intel64 &&\")\n",
    "    elif solver == \"PETSc/Pardiso-Project\":\n",
    "        fileobject.replace_text(\"-pc_type lu -pc_factor_mat_solver_type pardiso\", xpath=\"./linear_solvers/linear_solver/petsc/parameters\")\n",
    "        fileobject.write_input()\n",
    "        fileobject.run_model(path=\"/home/buchwalj/github/ogs/build_petsc_pardiso/bin\", logfile=f\"{folder}/pardiso-project.out\")\n",
    "    exec_time = fileobject.exec_time\n",
    "    return exec_time\n",
    "def setSolverMPI(fileobject, solver, n_p):\n",
    "    if solver == \"PETSc/SuperLU\":\n",
    "        fileobject.replace_text(\"-pc_type lu -pc_factor_mat_solver_type superlu_dist -ksp_view\", xpath=\"./linear_solvers/linear_solver/petsc/parameters\")\n",
    "        fileobject.write_input()\n",
    "        fileobject.run_model(path=\"/home/buchwalj/github/ogs/build_mkl_petsc/bin\", logfile=f\"{folder}/superlu.out\", wrapper=f\"mpirun -np {n_p}\")\n",
    "        #, wrapper=f\"source /opt/intel/oneapi/setvars.sh intel64 && mpirun -np {n_p}\")\n",
    "    elif solver == \"PETSc/MUMPS\":\n",
    "        fileobject.replace_text(\"-pc_type lu -pc_factor_mat_solver_type mumps -ksp_view\", xpath=\"./linear_solvers/linear_solver/petsc/parameters\")\n",
    "        fileobject.write_input()\n",
    "        fileobject.run_model(path=\"/home/buchwalj/github/ogs/build_mkl_petsc/bin\", logfile=f\"{folder}/mumps.out\", wrapper=f\"mpirun -np {n_p}\")\n",
    "    exec_time = fileobject.exec_time\n",
    "    return exec_time"
   ]
  },
  {
   "cell_type": "code",
   "execution_count": 10,
   "id": "ba7b7471-4f8e-408b-83fa-9f4944ab033c",
   "metadata": {},
   "outputs": [
    {
     "name": "stdout",
     "output_type": "stream",
     "text": [
      "OGS finished with project file /home/buchwalj/OGS_Solver_Comparison/data/sims/Petsc_direct_solver_comparison/Pardiso-Project.prj.\n",
      "Execution took 17.809013605117798 s\n",
      "OGS finished with project file /home/buchwalj/OGS_Solver_Comparison/data/sims/Petsc_direct_solver_comparison/Pardiso-Project.prj.\n",
      "Execution took 19.18940305709839 s\n",
      "OGS finished with project file /home/buchwalj/OGS_Solver_Comparison/data/sims/Petsc_direct_solver_comparison/Pardiso-Project.prj.\n",
      "Execution took 20.728864192962646 s\n",
      "OGS finished with project file /home/buchwalj/OGS_Solver_Comparison/data/sims/Petsc_direct_solver_comparison/Pardiso-Project.prj.\n",
      "Execution took 20.793919324874878 s\n",
      "OGS finished with project file /home/buchwalj/OGS_Solver_Comparison/data/sims/Petsc_direct_solver_comparison/Pardiso-Project.prj.\n",
      "Execution took 20.816845893859863 s\n",
      "OGS finished with project file /home/buchwalj/OGS_Solver_Comparison/data/sims/Petsc_direct_solver_comparison/Pardiso-Project.prj.\n",
      "Execution took 20.782394886016846 s\n",
      "OGS finished with project file /home/buchwalj/OGS_Solver_Comparison/data/sims/Petsc_direct_solver_comparison/Pardiso-Project.prj.\n",
      "Execution took 21.497370958328247 s\n",
      "OGS finished with project file /home/buchwalj/OGS_Solver_Comparison/data/sims/Petsc_direct_solver_comparison/Pardiso-Project.prj.\n",
      "Execution took 21.060820817947388 s\n",
      "OGS finished with project file /home/buchwalj/OGS_Solver_Comparison/data/sims/Petsc_direct_solver_comparison/Pardiso-Project.prj.\n",
      "Execution took 20.826232194900513 s\n",
      "OGS finished with project file /home/buchwalj/OGS_Solver_Comparison/data/sims/Petsc_direct_solver_comparison/Pardiso-Project.prj.\n",
      "Execution took 20.786343336105347 s\n"
     ]
    }
   ],
   "source": [
    "exec_time = {}\n",
    "#separate execution for pardiso project\n",
    "#execute prior: cp /home/buchwalj/petsc_pardiso.conf /etc/ld.so.conf.d/petsc.conf\n",
    "#ldconfig\n",
    "solver =  \"PETSc/Pardiso-Project\"\n",
    "for n_p in omp_runs:\n",
    "    exec_time[solver+\"_OMP\"+str(n_p)] = []\n",
    "for i in range(runs):\n",
    "    solver_ = solver.split(\"/\")[-1]\n",
    "    for n_p in omp_runs:\n",
    "        m = OGS(INPUT_FILE=f\"{folder}/Decovalex-0.prj\", PROJECT_FILE=f\"{folder}/{solver_}.prj\", OMP_NUM_THREADS=n_p)\n",
    "        exec_time[solver+\"_OMP\"+str(n_p)].append(setSolverOMP(m, solver))\n",
    "#execute after: cp /home/buchwalj/petsc_mkl.conf /etc/ld.so.conf.d/petsc.conf\n",
    "#ldconfig"
   ]
  },
  {
   "cell_type": "code",
   "execution_count": 13,
   "id": "53f30d04-72e7-45f1-ad39-a1210cb7e899",
   "metadata": {
    "tags": []
   },
   "outputs": [
    {
     "name": "stdout",
     "output_type": "stream",
     "text": [
      "OGS finished with project file /home/buchwalj/OGS_Solver_Comparison/data/sims/Petsc_direct_solver_comparison/SuperLU.prj.\n",
      "Execution took 28.47602105140686 s\n",
      "OGS finished with project file /home/buchwalj/OGS_Solver_Comparison/data/sims/Petsc_direct_solver_comparison/SuperLU.prj.\n",
      "Execution took 24.634887218475342 s\n",
      "OGS finished with project file /home/buchwalj/OGS_Solver_Comparison/data/sims/Petsc_direct_solver_comparison/SuperLU.prj.\n",
      "Execution took 32.028165340423584 s\n",
      "OGS finished with project file /home/buchwalj/OGS_Solver_Comparison/data/sims/Petsc_direct_solver_comparison/SuperLU.prj.\n",
      "Execution took 24.576160192489624 s\n",
      "OGS finished with project file /home/buchwalj/OGS_Solver_Comparison/data/sims/Petsc_direct_solver_comparison/SuperLU.prj.\n",
      "Execution took 32.13175654411316 s\n",
      "OGS finished with project file /home/buchwalj/OGS_Solver_Comparison/data/sims/Petsc_direct_solver_comparison/SuperLU.prj.\n",
      "Execution took 24.605015516281128 s\n",
      "OGS finished with project file /home/buchwalj/OGS_Solver_Comparison/data/sims/Petsc_direct_solver_comparison/SuperLU.prj.\n",
      "Execution took 32.02859163284302 s\n",
      "OGS finished with project file /home/buchwalj/OGS_Solver_Comparison/data/sims/Petsc_direct_solver_comparison/SuperLU.prj.\n",
      "Execution took 24.65458631515503 s\n",
      "OGS finished with project file /home/buchwalj/OGS_Solver_Comparison/data/sims/Petsc_direct_solver_comparison/SuperLU.prj.\n",
      "Execution took 32.14086985588074 s\n",
      "OGS finished with project file /home/buchwalj/OGS_Solver_Comparison/data/sims/Petsc_direct_solver_comparison/SuperLU.prj.\n",
      "Execution took 24.564314365386963 s\n",
      "OGS finished with project file /home/buchwalj/OGS_Solver_Comparison/data/sims/Petsc_direct_solver_comparison/SuperLU.prj.\n",
      "Execution took 31.97363305091858 s\n",
      "OGS finished with project file /home/buchwalj/OGS_Solver_Comparison/data/sims/Petsc_direct_solver_comparison/SuperLU.prj.\n",
      "Execution took 24.532665967941284 s\n",
      "OGS finished with project file /home/buchwalj/OGS_Solver_Comparison/data/sims/Petsc_direct_solver_comparison/SuperLU.prj.\n",
      "Execution took 32.18062925338745 s\n",
      "OGS finished with project file /home/buchwalj/OGS_Solver_Comparison/data/sims/Petsc_direct_solver_comparison/SuperLU.prj.\n",
      "Execution took 24.57216477394104 s\n",
      "OGS finished with project file /home/buchwalj/OGS_Solver_Comparison/data/sims/Petsc_direct_solver_comparison/SuperLU.prj.\n",
      "Execution took 32.101399421691895 s\n",
      "OGS finished with project file /home/buchwalj/OGS_Solver_Comparison/data/sims/Petsc_direct_solver_comparison/SuperLU.prj.\n",
      "Execution took 24.797762870788574 s\n",
      "OGS finished with project file /home/buchwalj/OGS_Solver_Comparison/data/sims/Petsc_direct_solver_comparison/SuperLU.prj.\n",
      "Execution took 31.924662113189697 s\n",
      "OGS finished with project file /home/buchwalj/OGS_Solver_Comparison/data/sims/Petsc_direct_solver_comparison/SuperLU.prj.\n",
      "Execution took 24.470258474349976 s\n",
      "OGS finished with project file /home/buchwalj/OGS_Solver_Comparison/data/sims/Petsc_direct_solver_comparison/SuperLU.prj.\n",
      "Execution took 32.01090407371521 s\n",
      "OGS finished with project file /home/buchwalj/OGS_Solver_Comparison/data/sims/Petsc_direct_solver_comparison/SuperLU.prj.\n",
      "Execution took 24.65828537940979 s\n",
      "OGS finished with project file /home/buchwalj/OGS_Solver_Comparison/data/sims/Petsc_direct_solver_comparison/MUMPS.prj.\n",
      "Execution took 26.68467903137207 s\n",
      "OGS finished with project file /home/buchwalj/OGS_Solver_Comparison/data/sims/Petsc_direct_solver_comparison/MUMPS.prj.\n",
      "Execution took 16.064765214920044 s\n",
      "OGS finished with project file /home/buchwalj/OGS_Solver_Comparison/data/sims/Petsc_direct_solver_comparison/MUMPS.prj.\n",
      "Execution took 26.653951406478882 s\n",
      "OGS finished with project file /home/buchwalj/OGS_Solver_Comparison/data/sims/Petsc_direct_solver_comparison/MUMPS.prj.\n",
      "Execution took 15.884287595748901 s\n",
      "OGS finished with project file /home/buchwalj/OGS_Solver_Comparison/data/sims/Petsc_direct_solver_comparison/MUMPS.prj.\n",
      "Execution took 26.642081260681152 s\n",
      "OGS finished with project file /home/buchwalj/OGS_Solver_Comparison/data/sims/Petsc_direct_solver_comparison/MUMPS.prj.\n",
      "Execution took 15.9344003200531 s\n",
      "OGS finished with project file /home/buchwalj/OGS_Solver_Comparison/data/sims/Petsc_direct_solver_comparison/MUMPS.prj.\n",
      "Execution took 26.79074192047119 s\n",
      "OGS finished with project file /home/buchwalj/OGS_Solver_Comparison/data/sims/Petsc_direct_solver_comparison/MUMPS.prj.\n",
      "Execution took 16.004401922225952 s\n",
      "OGS finished with project file /home/buchwalj/OGS_Solver_Comparison/data/sims/Petsc_direct_solver_comparison/MUMPS.prj.\n",
      "Execution took 26.947449922561646 s\n",
      "OGS finished with project file /home/buchwalj/OGS_Solver_Comparison/data/sims/Petsc_direct_solver_comparison/MUMPS.prj.\n",
      "Execution took 16.177945137023926 s\n",
      "OGS finished with project file /home/buchwalj/OGS_Solver_Comparison/data/sims/Petsc_direct_solver_comparison/MUMPS.prj.\n",
      "Execution took 26.640808820724487 s\n",
      "OGS finished with project file /home/buchwalj/OGS_Solver_Comparison/data/sims/Petsc_direct_solver_comparison/MUMPS.prj.\n",
      "Execution took 17.215944290161133 s\n",
      "OGS finished with project file /home/buchwalj/OGS_Solver_Comparison/data/sims/Petsc_direct_solver_comparison/MUMPS.prj.\n",
      "Execution took 26.661209106445312 s\n",
      "OGS finished with project file /home/buchwalj/OGS_Solver_Comparison/data/sims/Petsc_direct_solver_comparison/MUMPS.prj.\n",
      "Execution took 16.00476622581482 s\n",
      "OGS finished with project file /home/buchwalj/OGS_Solver_Comparison/data/sims/Petsc_direct_solver_comparison/MUMPS.prj.\n",
      "Execution took 26.795334815979004 s\n",
      "OGS finished with project file /home/buchwalj/OGS_Solver_Comparison/data/sims/Petsc_direct_solver_comparison/MUMPS.prj.\n",
      "Execution took 15.989173650741577 s\n",
      "OGS finished with project file /home/buchwalj/OGS_Solver_Comparison/data/sims/Petsc_direct_solver_comparison/MUMPS.prj.\n",
      "Execution took 26.591514587402344 s\n",
      "OGS finished with project file /home/buchwalj/OGS_Solver_Comparison/data/sims/Petsc_direct_solver_comparison/MUMPS.prj.\n",
      "Execution took 16.019404649734497 s\n",
      "OGS finished with project file /home/buchwalj/OGS_Solver_Comparison/data/sims/Petsc_direct_solver_comparison/MUMPS.prj.\n",
      "Execution took 26.631977558135986 s\n",
      "OGS finished with project file /home/buchwalj/OGS_Solver_Comparison/data/sims/Petsc_direct_solver_comparison/MUMPS.prj.\n",
      "Execution took 16.020183324813843 s\n",
      "OGS finished with project file /home/buchwalj/OGS_Solver_Comparison/data/sims/Petsc_direct_solver_comparison/MKL-Pardiso.prj.\n",
      "Execution took 19.664681434631348 s\n",
      "OGS finished with project file /home/buchwalj/OGS_Solver_Comparison/data/sims/Petsc_direct_solver_comparison/MKL-Pardiso.prj.\n",
      "Execution took 19.496529579162598 s\n",
      "OGS finished with project file /home/buchwalj/OGS_Solver_Comparison/data/sims/Petsc_direct_solver_comparison/MKL-Pardiso.prj.\n",
      "Execution took 19.718632221221924 s\n",
      "OGS finished with project file /home/buchwalj/OGS_Solver_Comparison/data/sims/Petsc_direct_solver_comparison/MKL-Pardiso.prj.\n",
      "Execution took 19.999057292938232 s\n",
      "OGS finished with project file /home/buchwalj/OGS_Solver_Comparison/data/sims/Petsc_direct_solver_comparison/MKL-Pardiso.prj.\n",
      "Execution took 19.542071104049683 s\n",
      "OGS finished with project file /home/buchwalj/OGS_Solver_Comparison/data/sims/Petsc_direct_solver_comparison/MKL-Pardiso.prj.\n",
      "Execution took 19.911275386810303 s\n",
      "OGS finished with project file /home/buchwalj/OGS_Solver_Comparison/data/sims/Petsc_direct_solver_comparison/MKL-Pardiso.prj.\n",
      "Execution took 19.86817979812622 s\n",
      "OGS finished with project file /home/buchwalj/OGS_Solver_Comparison/data/sims/Petsc_direct_solver_comparison/MKL-Pardiso.prj.\n",
      "Execution took 19.645687341690063 s\n",
      "OGS finished with project file /home/buchwalj/OGS_Solver_Comparison/data/sims/Petsc_direct_solver_comparison/MKL-Pardiso.prj.\n",
      "Execution took 19.81825280189514 s\n",
      "OGS finished with project file /home/buchwalj/OGS_Solver_Comparison/data/sims/Petsc_direct_solver_comparison/MKL-Pardiso.prj.\n",
      "Execution took 19.752052068710327 s\n"
     ]
    }
   ],
   "source": [
    "for solver in solvers:\n",
    "    for n_p in omp_runs:\n",
    "        exec_time[solver+\"_OMP\"+str(n_p)] = []\n",
    "    for n_p in mpi_runs:\n",
    "        if solver != \"PETSc/MKL-Pardiso\":\n",
    "            exec_time[solver+\"_MPI\"+str(n_p)] = []\n",
    "    for i in range(runs):\n",
    "        solver_ = solver.split(\"/\")[-1]\n",
    "        for n_p in omp_runs:\n",
    "            m = OGS(INPUT_FILE=f\"{folder}/Decovalex-0.prj\", PROJECT_FILE=f\"{folder}/{solver_}.prj\", OMP_NUM_THREADS=n_p)\n",
    "            exec_time[solver+\"_OMP\"+str(n_p)].append(setSolverOMP(m, solver))\n",
    "        for n_p in mpi_runs:\n",
    "            if solver != \"PETSc/MKL-Pardiso\":\n",
    "                m = OGS(INPUT_FILE=f\"{folder}/Decovalex-0.prj\", PROJECT_FILE=f\"{folder}/{solver_}.prj\", OMP_NUM_THREADS=1)\n",
    "                exec_time[solver+\"_MPI\"+str(n_p)].append(setSolverMPI(m, solver,n_p))"
   ]
  },
  {
   "cell_type": "code",
   "execution_count": 14,
   "id": "dac87cee",
   "metadata": {},
   "outputs": [],
   "source": [
    "solvers_ext = [item for item in exec_time]"
   ]
  },
  {
   "cell_type": "code",
   "execution_count": 20,
   "id": "0832b4b8-7d36-4718-8e4f-67b5dad916de",
   "metadata": {},
   "outputs": [
    {
     "data": {
      "image/png": "[encoded data removed]",
      "text/plain": [
       "<Figure size 1296x720 with 1 Axes>"
      ]
     },
     "metadata": {
      "needs_background": "light"
     },
     "output_type": "display_data"
    }
   ],
   "source": [
    "from pylab import rcParams\n",
    "rcParams['figure.figsize'] = 18, 10\n",
    "fig = plt.figure()\n",
    "plt.rcParams.update({'font.size': 15})\n",
    "ax = fig.add_axes([0,0,1,1])\n",
    "ax.bar(solvers_ext,[np.min(exec_time[solver]) for solver in solvers_ext], alpha=0.6)\n",
    "plt.errorbar(solvers_ext, [np.mean(exec_time[solver]) for solver in solvers_ext], yerr=[np.std(exec_time[solver]) for solver in solvers_ext], color=\"black\", capsize=10)\n",
    "plt.show()"
   ]
  },
  {
   "cell_type": "code",
   "execution_count": 16,
   "id": "6e0b3290-f006-4344-bb64-d42e4721fb5d",
   "metadata": {},
   "outputs": [
    {
     "data": {
      "text/plain": [
       "[20.429120826721192,\n",
       " 31.69966323375702,\n",
       " 24.606610107421876,\n",
       " 26.703974843025208,\n",
       " 16.13152723312378,\n",
       " 19.741641902923583]"
      ]
     },
     "execution_count": 16,
     "metadata": {},
     "output_type": "execute_result"
    }
   ],
   "source": [
    "[np.sum(exec_time[solver])/runs for solver in solvers_ext]"
   ]
  },
  {
   "cell_type": "code",
   "execution_count": 17,
   "id": "09d73e84",
   "metadata": {},
   "outputs": [
    {
     "data": {
      "text/plain": [
       "1.162522661393637"
      ]
     },
     "execution_count": 17,
     "metadata": {},
     "output_type": "execute_result"
    }
   ],
   "source": []
  },
  {
   "cell_type": "code",
   "execution_count": null,
   "id": "6b1446a5-49b4-4ecd-9760-e8090e43db1a",
   "metadata": {},
   "outputs": [],
   "source": []
  }
 ],
 "metadata": {
  "kernelspec": {
   "display_name": "Python 3 (ipykernel)",
   "language": "python",
   "name": "python3"
  },
  "language_info": {
   "codemirror_mode": {
    "name": "ipython",
    "version": 3
   },
   "file_extension": ".py",
   "mimetype": "text/x-python",
   "name": "python",
   "nbconvert_exporter": "python",
   "pygments_lexer": "ipython3",
   "version": "3.10.2"
  }
 },
 "nbformat": 4,
 "nbformat_minor": 5
}
