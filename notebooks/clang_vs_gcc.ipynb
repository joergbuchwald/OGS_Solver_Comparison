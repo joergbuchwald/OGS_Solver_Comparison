{
 "cells": [
  {
   "cell_type": "markdown",
   "id": "31649ddf-9f86-41ac-a761-1b3de4ed84f6",
   "metadata": {},
   "source": [
    "# <p style=\"text-align: center;\">Direct solver comparison in OGS</p>\n",
    "\n",
    "## Machine: Intel(R) Core(TM) i7-8565U CPU @ 1.80GHz\n",
    "\n",
    "## Model: ThermoHydroMechanics point heat source bechnmark, quadratic elements (2D) 10 time steps"
   ]
  },
  {
   "cell_type": "code",
   "execution_count": 55,
   "id": "064024ac-052b-4e0c-8d5e-f5e1b1f1dec4",
   "metadata": {},
   "outputs": [],
   "source": [
    "from ogs6py.ogs import OGS\n",
    "import numpy as np\n",
    "import matplotlib.pyplot as plt\n",
    "import plot_settings"
   ]
  },
  {
   "cell_type": "code",
   "execution_count": 56,
   "id": "f8db2b8b-b052-4718-b24b-5f07c8faf9c3",
   "metadata": {},
   "outputs": [],
   "source": [
    "runs = 5"
   ]
  },
  {
   "cell_type": "code",
   "execution_count": 57,
   "id": "cac8fb6d-964d-4e9b-9f3b-977a7994a203",
   "metadata": {},
   "outputs": [],
   "source": [
    "solvers = [\"Eigen/SparseLU\",\"Eigen/PardisoLU\", \"Eigen/BiCGSTAB\"]"
   ]
  },
  {
   "cell_type": "code",
   "execution_count": 58,
   "id": "8587f09b",
   "metadata": {},
   "outputs": [],
   "source": [
    "executables = {\"gcc\":\"/home/buchwalj/github/ogs/build_mkl_eigengcc/bin\", \"clang\":\"/home/buchwalj/github/ogs/build_mkl_eigenclang/bin\", \"intelclang\":\"/home/buchwalj/github/ogs/build_mkl_eigenintelclang/bin\"}"
   ]
  },
  {
   "cell_type": "code",
   "execution_count": 59,
   "id": "4d1c88fb-9d7b-4afd-a54d-d44f4de09901",
   "metadata": {},
   "outputs": [],
   "source": [
    "def setSolver(fileobject, solver, compiler):\n",
    "    if solver == \"Eigen/SparseLU\":\n",
    "        fileobject.replace_text(\"SparseLU\", xpath=\"./linear_solvers/linear_solver/eigen/solver_type\")\n",
    "        fileobject.replace_text(\"1\", xpath=\"./linear_solvers/linear_solver/eigen/scaling\")\n",
    "        fileobject.write_input()\n",
    "        fileobject.run_model(path=executables[compiler], logfile=f\"sparselu_{compiler}.out\")\n",
    "        exec_time = fileobject.exec_time\n",
    "    elif solver == \"Eigen/PardisoLU\":\n",
    "        fileobject.replace_text(\"PardisoLU\", xpath=\"./linear_solvers/linear_solver/eigen/solver_type\")\n",
    "        fileobject.replace_text(\"0\", xpath=\"./linear_solvers/linear_solver/eigen/scaling\")\n",
    "        fileobject.write_input()\n",
    "        fileobject.run_model(path=executables[compiler], logfile=f\"pardisolu_{compiler}.out\")\n",
    "    elif solver == \"Eigen/BiCGSTAB\":\n",
    "        fileobject.replace_text(\"BiCGSTAB\", xpath=\"./linear_solvers/linear_solver/eigen/solver_type\")\n",
    "        fileobject.replace_text(\"1\", xpath=\"./linear_solvers/linear_solver/eigen/scaling\")\n",
    "        fileobject.write_input()\n",
    "        fileobject.run_model(path=executables[compiler], logfile=f\"bicgstab_{compiler}.out\")\n",
    "    exec_time = fileobject.exec_time\n",
    "    return exec_time"
   ]
  },
  {
   "cell_type": "code",
   "execution_count": null,
   "id": "7d9cd6f1-61ff-4f10-9b7a-07d001bac47b",
   "metadata": {},
   "outputs": [],
   "source": []
  },
  {
   "cell_type": "code",
   "execution_count": 60,
   "id": "53f30d04-72e7-45f1-ad39-a1210cb7e899",
   "metadata": {
    "tags": []
   },
   "outputs": [
    {
     "name": "stdout",
     "output_type": "stream",
     "text": [
      "OGS finished with project file SparseLU.prj.\n",
      "Execution took 7.939093112945557 s\n",
      "OGS finished with project file SparseLU.prj.\n",
      "Execution took 10.259297370910645 s\n",
      "OGS finished with project file SparseLU.prj.\n",
      "Execution took 9.974390983581543 s\n",
      "OGS finished with project file SparseLU.prj.\n",
      "Execution took 9.738218545913696 s\n",
      "OGS finished with project file SparseLU.prj.\n",
      "Execution took 10.145977258682251 s\n",
      "OGS finished with project file SparseLU.prj.\n",
      "Execution took 9.925602197647095 s\n",
      "OGS finished with project file SparseLU.prj.\n",
      "Execution took 9.759821891784668 s\n",
      "OGS finished with project file SparseLU.prj.\n",
      "Execution took 10.265031099319458 s\n",
      "OGS finished with project file SparseLU.prj.\n",
      "Execution took 9.890066623687744 s\n",
      "OGS finished with project file SparseLU.prj.\n",
      "Execution took 9.828980922698975 s\n",
      "OGS finished with project file SparseLU.prj.\n",
      "Execution took 10.26515507698059 s\n",
      "OGS finished with project file SparseLU.prj.\n",
      "Execution took 10.211100816726685 s\n",
      "OGS finished with project file SparseLU.prj.\n",
      "Execution took 10.028618335723877 s\n",
      "OGS finished with project file SparseLU.prj.\n",
      "Execution took 9.798652172088623 s\n",
      "OGS finished with project file SparseLU.prj.\n",
      "Execution took 9.997527122497559 s\n",
      "OGS finished with project file PardisoLU.prj.\n",
      "Execution took 9.372325658798218 s\n",
      "OGS finished with project file PardisoLU.prj.\n",
      "Execution took 11.31483769416809 s\n",
      "OGS finished with project file PardisoLU.prj.\n",
      "Execution took 10.80205225944519 s\n",
      "OGS finished with project file PardisoLU.prj.\n",
      "Execution took 9.296664237976074 s\n",
      "OGS finished with project file PardisoLU.prj.\n",
      "Execution took 11.05165719985962 s\n",
      "OGS finished with project file PardisoLU.prj.\n",
      "Execution took 10.87715744972229 s\n",
      "OGS finished with project file PardisoLU.prj.\n",
      "Execution took 9.215121507644653 s\n",
      "OGS finished with project file PardisoLU.prj.\n",
      "Execution took 10.766612768173218 s\n",
      "OGS finished with project file PardisoLU.prj.\n",
      "Execution took 10.794390439987183 s\n",
      "OGS finished with project file PardisoLU.prj.\n",
      "Execution took 9.043009996414185 s\n",
      "OGS finished with project file PardisoLU.prj.\n",
      "Execution took 11.109330654144287 s\n",
      "OGS finished with project file PardisoLU.prj.\n",
      "Execution took 10.960121870040894 s\n",
      "OGS finished with project file PardisoLU.prj.\n",
      "Execution took 9.165161848068237 s\n",
      "OGS finished with project file PardisoLU.prj.\n",
      "Execution took 10.552038431167603 s\n",
      "OGS finished with project file PardisoLU.prj.\n",
      "Execution took 10.591044664382935 s\n",
      "OGS finished with project file BiCGSTAB.prj.\n",
      "Execution took 19.128800630569458 s\n",
      "OGS finished with project file BiCGSTAB.prj.\n",
      "Execution took 25.008981227874756 s\n",
      "OGS finished with project file BiCGSTAB.prj.\n",
      "Execution took 22.613166570663452 s\n",
      "OGS finished with project file BiCGSTAB.prj.\n",
      "Execution took 18.29399538040161 s\n",
      "OGS finished with project file BiCGSTAB.prj.\n",
      "Execution took 24.395435333251953 s\n",
      "OGS finished with project file BiCGSTAB.prj.\n",
      "Execution took 22.390767335891724 s\n",
      "OGS finished with project file BiCGSTAB.prj.\n",
      "Execution took 18.9099440574646 s\n",
      "OGS finished with project file BiCGSTAB.prj.\n",
      "Execution took 24.730648517608643 s\n",
      "OGS finished with project file BiCGSTAB.prj.\n",
      "Execution took 22.46286129951477 s\n",
      "OGS finished with project file BiCGSTAB.prj.\n",
      "Execution took 18.455942392349243 s\n",
      "OGS finished with project file BiCGSTAB.prj.\n",
      "Execution took 24.63185429573059 s\n",
      "OGS finished with project file BiCGSTAB.prj.\n",
      "Execution took 22.404293060302734 s\n",
      "OGS finished with project file BiCGSTAB.prj.\n",
      "Execution took 18.796369075775146 s\n",
      "OGS finished with project file BiCGSTAB.prj.\n",
      "Execution took 25.12888789176941 s\n",
      "OGS finished with project file BiCGSTAB.prj.\n",
      "Execution took 22.264808416366577 s\n"
     ]
    }
   ],
   "source": [
    "exec_time = {}\n",
    "for compiler in executables:\n",
    "    exec_time[compiler] = {}\n",
    "for solver in solvers:\n",
    "    for compiler in executables:\n",
    "        exec_time[compiler][solver] = []\n",
    "    for i in range(runs):\n",
    "        for compiler in executables:\n",
    "            solver_ = solver.split(\"/\")[-1]\n",
    "            m = OGS(INPUT_FILE=\"pointheatsource_quadratic-mesh.prj\", PROJECT_FILE=f\"{solver_}.prj\", OMP_NUM_THREADS=4)\n",
    "            exec_time[compiler][solver].append(setSolver(m, solver,compiler))"
   ]
  },
  {
   "cell_type": "code",
   "execution_count": 61,
   "id": "0832b4b8-7d36-4718-8e4f-67b5dad916de",
   "metadata": {},
   "outputs": [
    {
     "data": {
      "image/png": "[encoded data removed]",
      "text/plain": [
       "<Figure size 576x432 with 1 Axes>"
      ]
     },
     "metadata": {
      "needs_background": "light"
     },
     "output_type": "display_data"
    }
   ],
   "source": [
    "fig = plt.figure()\n",
    "plt.rcParams.update({'font.size': 12})\n",
    "ax = fig.add_axes([0,0,1,1])\n",
    "slvrs_x = np.arange(len(solvers))\n",
    "ax.bar(slvrs_x,[np.min(exec_time[\"gcc\"][solver]) for solver in solvers], color='b', alpha=0.8, width=0.2,label=\"GCC\")\n",
    "ax.bar(slvrs_x+0.2,[np.min(exec_time[\"clang\"][solver]) for solver in solvers], color='r', alpha=0.8,width=0.2, label=\"Clang\")\n",
    "ax.bar(slvrs_x+0.4,[np.min(exec_time[\"intelclang\"][solver]) for solver in solvers], color='g', alpha=0.8,width=0.2, label=\"Intel/Clang\")\n",
    "plt.errorbar(slvrs_x, [np.mean(exec_time[\"gcc\"][solver]) for solver in solvers], yerr=[np.std(exec_time[\"gcc\"][solver]) for solver in solvers], color=\"blue\", capsize=10)\n",
    "plt.errorbar(slvrs_x+0.2, [np.mean(exec_time[\"clang\"][solver]) for solver in solvers], yerr=[np.std(exec_time[\"clang\"][solver]) for solver in solvers], color=\"red\", capsize=10)\n",
    "plt.errorbar(slvrs_x+0.4, [np.mean(exec_time[\"intelclang\"][solver]) for solver in solvers], yerr=[np.std(exec_time[\"intelclang\"][solver]) for solver in solvers], color=\"green\", capsize=10)\n",
    "plt.xticks([r+0.1 for r in range(len(solvers))], solvers)\n",
    "plt.legend()\n",
    "plt.show()"
   ]
  },
  {
   "cell_type": "code",
   "execution_count": 62,
   "id": "6e0b3290-f006-4344-bb64-d42e4721fb5d",
   "metadata": {},
   "outputs": [
    {
     "ename": "KeyError",
     "evalue": "'Eigen/SparseLU'",
     "output_type": "error",
     "traceback": [
      "\u001b[0;31m---------------------------------------------------------------------------\u001b[0m",
      "\u001b[0;31mKeyError\u001b[0m                                  Traceback (most recent call last)",
      "\u001b[0;32m/tmp/ipykernel_312631/3980460056.py\u001b[0m in \u001b[0;36m<module>\u001b[0;34m\u001b[0m\n\u001b[0;32m----> 1\u001b[0;31m \u001b[0;34m[\u001b[0m\u001b[0mnp\u001b[0m\u001b[0;34m.\u001b[0m\u001b[0msum\u001b[0m\u001b[0;34m(\u001b[0m\u001b[0mexec_time\u001b[0m\u001b[0;34m[\u001b[0m\u001b[0msolver\u001b[0m\u001b[0;34m]\u001b[0m\u001b[0;34m)\u001b[0m\u001b[0;34m/\u001b[0m\u001b[0mruns\u001b[0m \u001b[0;32mfor\u001b[0m \u001b[0msolver\u001b[0m \u001b[0;32min\u001b[0m \u001b[0msolvers\u001b[0m\u001b[0;34m]\u001b[0m\u001b[0;34m\u001b[0m\u001b[0;34m\u001b[0m\u001b[0m\n\u001b[0m",
      "\u001b[0;32m/tmp/ipykernel_312631/3980460056.py\u001b[0m in \u001b[0;36m<listcomp>\u001b[0;34m(.0)\u001b[0m\n\u001b[0;32m----> 1\u001b[0;31m \u001b[0;34m[\u001b[0m\u001b[0mnp\u001b[0m\u001b[0;34m.\u001b[0m\u001b[0msum\u001b[0m\u001b[0;34m(\u001b[0m\u001b[0mexec_time\u001b[0m\u001b[0;34m[\u001b[0m\u001b[0msolver\u001b[0m\u001b[0;34m]\u001b[0m\u001b[0;34m)\u001b[0m\u001b[0;34m/\u001b[0m\u001b[0mruns\u001b[0m \u001b[0;32mfor\u001b[0m \u001b[0msolver\u001b[0m \u001b[0;32min\u001b[0m \u001b[0msolvers\u001b[0m\u001b[0;34m]\u001b[0m\u001b[0;34m\u001b[0m\u001b[0;34m\u001b[0m\u001b[0m\n\u001b[0m",
      "\u001b[0;31mKeyError\u001b[0m: 'Eigen/SparseLU'"
     ]
    }
   ],
   "source": [
    "[np.sum(exec_time[solver])/runs for solver in solvers]"
   ]
  },
  {
   "cell_type": "code",
   "execution_count": null,
   "id": "b0c7e7e7-5bcd-46cb-a883-ef48aa33c960",
   "metadata": {},
   "outputs": [],
   "source": []
  }
 ],
 "metadata": {
  "kernelspec": {
   "display_name": "Python 3 (ipykernel)",
   "language": "python",
   "name": "python3"
  },
  "language_info": {
   "codemirror_mode": {
    "name": "ipython",
    "version": 3
   },
   "file_extension": ".py",
   "mimetype": "text/x-python",
   "name": "python",
   "nbconvert_exporter": "python",
   "pygments_lexer": "ipython3",
   "version": "3.10.1"
  }
 },
 "nbformat": 4,
 "nbformat_minor": 5
}
