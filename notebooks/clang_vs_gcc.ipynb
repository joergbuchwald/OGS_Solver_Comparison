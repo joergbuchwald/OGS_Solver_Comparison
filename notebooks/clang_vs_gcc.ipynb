{
 "cells": [
  {
   "cell_type": "markdown",
   "id": "31649ddf-9f86-41ac-a761-1b3de4ed84f6",
   "metadata": {},
   "source": [
    "# <p style=\"text-align: center;\">Direct solver comparison in OGS</p>\n",
    "\n",
    "## Machine: Intel(R) Core(TM) i7-8565U CPU @ 1.80GHz\n",
    "\n",
    "## Model: ThermoHydroMechanics point heat source bechnmark, quadratic elements (2D) 10 time steps"
   ]
  },
  {
   "cell_type": "code",
   "execution_count": 75,
   "id": "064024ac-052b-4e0c-8d5e-f5e1b1f1dec4",
   "metadata": {},
   "outputs": [],
   "source": [
    "from ogs6py.ogs import OGS\n",
    "import numpy as np\n",
    "import matplotlib.pyplot as plt\n",
    "import plot_settings"
   ]
  },
  {
   "cell_type": "code",
   "execution_count": 76,
   "id": "f8db2b8b-b052-4718-b24b-5f07c8faf9c3",
   "metadata": {},
   "outputs": [],
   "source": [
    "runs = 10"
   ]
  },
  {
   "cell_type": "code",
   "execution_count": 77,
   "id": "cac8fb6d-964d-4e9b-9f3b-977a7994a203",
   "metadata": {},
   "outputs": [],
   "source": [
    "solvers = [\"Eigen/SparseLU\",\"Eigen/PardisoLU\", \"Eigen/BiCGSTAB\"]"
   ]
  },
  {
   "cell_type": "code",
   "execution_count": 78,
   "id": "8587f09b",
   "metadata": {},
   "outputs": [],
   "source": [
    "executables = {\n",
    "    #\"gcc\":\"/home/buchwalj/github/ogs/build_mkl_eigengcc/bin\", \n",
    "    #\"clang\":\"/home/buchwalj/github/ogs/build_mkl_eigenclang/bin\", \n",
    "    \"intelclang_native\":\"/home/buchwalj/github/ogs/build_mkl_eigenintelclang/bin\",\n",
    "    \"intelclang\":\"/home/buchwalj/github/ogs/build_mkl_eigenintelclang_nomarch/bin\"\n",
    "}"
   ]
  },
  {
   "cell_type": "code",
   "execution_count": 79,
   "id": "4d1c88fb-9d7b-4afd-a54d-d44f4de09901",
   "metadata": {},
   "outputs": [],
   "source": [
    "def setSolver(fileobject, solver, compiler):\n",
    "    if solver == \"Eigen/SparseLU\":\n",
    "        fileobject.replace_text(\"SparseLU\", xpath=\"./linear_solvers/linear_solver/eigen/solver_type\")\n",
    "        fileobject.replace_text(\"1\", xpath=\"./linear_solvers/linear_solver/eigen/scaling\")\n",
    "        fileobject.write_input()\n",
    "        fileobject.run_model(path=executables[compiler], logfile=f\"sparselu_{compiler}.out\")\n",
    "        exec_time = fileobject.exec_time\n",
    "    elif solver == \"Eigen/PardisoLU\":\n",
    "        fileobject.replace_text(\"PardisoLU\", xpath=\"./linear_solvers/linear_solver/eigen/solver_type\")\n",
    "        fileobject.replace_text(\"0\", xpath=\"./linear_solvers/linear_solver/eigen/scaling\")\n",
    "        fileobject.write_input()\n",
    "        fileobject.run_model(path=executables[compiler], logfile=f\"pardisolu_{compiler}.out\")\n",
    "    elif solver == \"Eigen/BiCGSTAB\":\n",
    "        fileobject.replace_text(\"BiCGSTAB\", xpath=\"./linear_solvers/linear_solver/eigen/solver_type\")\n",
    "        fileobject.replace_text(\"1\", xpath=\"./linear_solvers/linear_solver/eigen/scaling\")\n",
    "        fileobject.write_input()\n",
    "        fileobject.run_model(path=executables[compiler], logfile=f\"bicgstab_{compiler}.out\")\n",
    "    exec_time = fileobject.exec_time\n",
    "    return exec_time"
   ]
  },
  {
   "cell_type": "code",
   "execution_count": null,
   "id": "7d9cd6f1-61ff-4f10-9b7a-07d001bac47b",
   "metadata": {},
   "outputs": [],
   "source": []
  },
  {
   "cell_type": "code",
   "execution_count": 80,
   "id": "53f30d04-72e7-45f1-ad39-a1210cb7e899",
   "metadata": {
    "tags": []
   },
   "outputs": [
    {
     "name": "stdout",
     "output_type": "stream",
     "text": [
      "OGS finished with project file SparseLU.prj.\n",
      "Execution took 7.166639089584351 s\n",
      "OGS finished with project file SparseLU.prj.\n",
      "Execution took 7.802980661392212 s\n",
      "OGS finished with project file SparseLU.prj.\n",
      "Execution took 8.65153980255127 s\n",
      "OGS finished with project file SparseLU.prj.\n",
      "Execution took 10.926084995269775 s\n",
      "OGS finished with project file SparseLU.prj.\n",
      "Execution took 10.14941668510437 s\n",
      "OGS finished with project file SparseLU.prj.\n",
      "Execution took 10.911795139312744 s\n",
      "OGS finished with project file SparseLU.prj.\n",
      "Execution took 9.919513940811157 s\n",
      "OGS finished with project file SparseLU.prj.\n",
      "Execution took 10.739264965057373 s\n",
      "OGS finished with project file SparseLU.prj.\n",
      "Execution took 10.465579271316528 s\n",
      "OGS finished with project file SparseLU.prj.\n",
      "Execution took 10.798503875732422 s\n",
      "OGS finished with project file SparseLU.prj.\n",
      "Execution took 10.029531717300415 s\n",
      "OGS finished with project file SparseLU.prj.\n",
      "Execution took 10.373899936676025 s\n",
      "OGS finished with project file SparseLU.prj.\n",
      "Execution took 9.728615760803223 s\n",
      "OGS finished with project file SparseLU.prj.\n",
      "Execution took 10.396252870559692 s\n",
      "OGS finished with project file SparseLU.prj.\n",
      "Execution took 9.72748064994812 s\n",
      "OGS finished with project file SparseLU.prj.\n",
      "Execution took 10.402491569519043 s\n",
      "OGS finished with project file SparseLU.prj.\n",
      "Execution took 9.81365180015564 s\n",
      "OGS finished with project file SparseLU.prj.\n",
      "Execution took 10.555663824081421 s\n",
      "OGS finished with project file SparseLU.prj.\n",
      "Execution took 9.66952109336853 s\n",
      "OGS finished with project file SparseLU.prj.\n",
      "Execution took 10.269551992416382 s\n",
      "OGS finished with project file PardisoLU.prj.\n",
      "Execution took 10.877182245254517 s\n",
      "OGS finished with project file PardisoLU.prj.\n",
      "Execution took 11.051654577255249 s\n",
      "OGS finished with project file PardisoLU.prj.\n",
      "Execution took 10.774912357330322 s\n",
      "OGS finished with project file PardisoLU.prj.\n",
      "Execution took 10.989538192749023 s\n",
      "OGS finished with project file PardisoLU.prj.\n",
      "Execution took 10.869580268859863 s\n",
      "OGS finished with project file PardisoLU.prj.\n",
      "Execution took 10.883955955505371 s\n",
      "OGS finished with project file PardisoLU.prj.\n",
      "Execution took 10.55613088607788 s\n",
      "OGS finished with project file PardisoLU.prj.\n",
      "Execution took 9.525687456130981 s\n",
      "OGS finished with project file PardisoLU.prj.\n",
      "Execution took 7.1208274364471436 s\n",
      "OGS finished with project file PardisoLU.prj.\n",
      "Execution took 7.214895248413086 s\n",
      "OGS finished with project file PardisoLU.prj.\n",
      "Execution took 7.032992124557495 s\n",
      "OGS finished with project file PardisoLU.prj.\n",
      "Execution took 7.189963102340698 s\n",
      "OGS finished with project file PardisoLU.prj.\n",
      "Execution took 7.052714824676514 s\n",
      "OGS finished with project file PardisoLU.prj.\n",
      "Execution took 7.207997798919678 s\n",
      "OGS finished with project file PardisoLU.prj.\n",
      "Execution took 7.150434732437134 s\n",
      "OGS finished with project file PardisoLU.prj.\n",
      "Execution took 7.238936901092529 s\n",
      "OGS finished with project file PardisoLU.prj.\n",
      "Execution took 7.087630033493042 s\n",
      "OGS finished with project file PardisoLU.prj.\n",
      "Execution took 7.169405221939087 s\n",
      "OGS finished with project file PardisoLU.prj.\n",
      "Execution took 7.21546483039856 s\n",
      "OGS finished with project file PardisoLU.prj.\n",
      "Execution took 7.2685792446136475 s\n",
      "OGS finished with project file BiCGSTAB.prj.\n",
      "Execution took 16.236961603164673 s\n",
      "OGS finished with project file BiCGSTAB.prj.\n",
      "Execution took 16.626325845718384 s\n",
      "OGS finished with project file BiCGSTAB.prj.\n",
      "Execution took 16.1109778881073 s\n",
      "OGS finished with project file BiCGSTAB.prj.\n",
      "Execution took 17.105891466140747 s\n",
      "OGS finished with project file BiCGSTAB.prj.\n",
      "Execution took 16.661091327667236 s\n",
      "OGS finished with project file BiCGSTAB.prj.\n",
      "Execution took 17.197964429855347 s\n",
      "OGS finished with project file BiCGSTAB.prj.\n",
      "Execution took 16.587099313735962 s\n",
      "OGS finished with project file BiCGSTAB.prj.\n",
      "Execution took 17.521592378616333 s\n",
      "OGS finished with project file BiCGSTAB.prj.\n",
      "Execution took 16.81080651283264 s\n",
      "OGS finished with project file BiCGSTAB.prj.\n",
      "Execution took 16.917783975601196 s\n",
      "OGS finished with project file BiCGSTAB.prj.\n",
      "Execution took 17.151811838150024 s\n",
      "OGS finished with project file BiCGSTAB.prj.\n",
      "Execution took 16.90449285507202 s\n",
      "OGS finished with project file BiCGSTAB.prj.\n",
      "Execution took 17.5317964553833 s\n",
      "OGS finished with project file BiCGSTAB.prj.\n",
      "Execution took 17.11920475959778 s\n",
      "OGS finished with project file BiCGSTAB.prj.\n",
      "Execution took 16.784834623336792 s\n",
      "OGS finished with project file BiCGSTAB.prj.\n",
      "Execution took 16.675516366958618 s\n",
      "OGS finished with project file BiCGSTAB.prj.\n",
      "Execution took 16.617005586624146 s\n",
      "OGS finished with project file BiCGSTAB.prj.\n",
      "Execution took 16.82860493659973 s\n",
      "OGS finished with project file BiCGSTAB.prj.\n",
      "Execution took 16.895332098007202 s\n",
      "OGS finished with project file BiCGSTAB.prj.\n",
      "Execution took 16.798823356628418 s\n"
     ]
    }
   ],
   "source": [
    "exec_time = {}\n",
    "for compiler in executables:\n",
    "    exec_time[compiler] = {}\n",
    "for solver in solvers:\n",
    "    for compiler in executables:\n",
    "        exec_time[compiler][solver] = []\n",
    "    for i in range(runs):\n",
    "        for compiler in executables:\n",
    "            solver_ = solver.split(\"/\")[-1]\n",
    "            m = OGS(INPUT_FILE=\"pointheatsource_quadratic-mesh.prj\", PROJECT_FILE=f\"{solver_}.prj\", OMP_NUM_THREADS=4)\n",
    "            exec_time[compiler][solver].append(setSolver(m, solver,compiler))"
   ]
  },
  {
   "cell_type": "code",
   "execution_count": 83,
   "id": "0832b4b8-7d36-4718-8e4f-67b5dad916de",
   "metadata": {},
   "outputs": [
    {
     "data": {
      "image/png": "[encoded data removed]",
      "text/plain": [
       "<Figure size 576x432 with 1 Axes>"
      ]
     },
     "metadata": {
      "needs_background": "light"
     },
     "output_type": "display_data"
    }
   ],
   "source": [
    "fig = plt.figure()\n",
    "plt.rcParams.update({'font.size': 12})\n",
    "ax = fig.add_axes([0,0,1,1])\n",
    "slvrs_x = np.arange(len(solvers))\n",
    "#ax.bar(slvrs_x,[np.min(exec_time[\"gcc\"][solver]) for solver in solvers], color='b', alpha=0.8, width=0.2,label=\"GCC\")\n",
    "#ax.bar(slvrs_x+0.2,[np.min(exec_time[\"clang\"][solver]) for solver in solvers], color='r', alpha=0.8,width=0.2, label=\"Clang\")\n",
    "ax.bar(slvrs_x+0.4,[np.min(exec_time[\"intelclang\"][solver]) for solver in solvers], color='g', alpha=0.8,width=0.2, label=\"Intel/Clang\")\n",
    "ax.bar(slvrs_x+0.2,[np.min(exec_time[\"intelclang_native\"][solver]) for solver in solvers], color='b', alpha=0.8,width=0.2, label=\"Intel/Clang native\")\n",
    "\n",
    "#plt.errorbar(slvrs_x, [np.mean(exec_time[\"gcc\"][solver]) for solver in solvers], yerr=[np.std(exec_time[\"gcc\"][solver]) for solver in solvers], color=\"blue\", capsize=10)\n",
    "#plt.errorbar(slvrs_x+0.2, [np.mean(exec_time[\"clang\"][solver]) for solver in solvers], yerr=[np.std(exec_time[\"clang\"][solver]) for solver in solvers], color=\"red\", capsize=10)\n",
    "plt.errorbar(slvrs_x+0.4, [np.mean(exec_time[\"intelclang\"][solver]) for solver in solvers], yerr=[np.std(exec_time[\"intelclang\"][solver]) for solver in solvers], color=\"green\", capsize=10)\n",
    "plt.errorbar(slvrs_x+0.2, [np.mean(exec_time[\"intelclang_native\"][solver]) for solver in solvers], yerr=[np.std(exec_time[\"intelclang_native\"][solver]) for solver in solvers], color=\"blue\", capsize=10)\n",
    "\n",
    "plt.xticks([r+0.1 for r in range(len(solvers))], solvers)\n",
    "plt.legend()\n",
    "plt.show()"
   ]
  },
  {
   "cell_type": "code",
   "execution_count": 87,
   "id": "6e0b3290-f006-4344-bb64-d42e4721fb5d",
   "metadata": {},
   "outputs": [
    {
     "data": {
      "text/plain": [
       "[10.317648983001709, 8.574061369895935, 16.969620037078858]"
      ]
     },
     "execution_count": 87,
     "metadata": {},
     "output_type": "execute_result"
    }
   ],
   "source": [
    "[np.mean(exec_time[\"intelclang\"][solver]) for solver in solvers]"
   ]
  },
  {
   "cell_type": "code",
   "execution_count": 88,
   "id": "b0c7e7e7-5bcd-46cb-a883-ef48aa33c960",
   "metadata": {},
   "outputs": [
    {
     "data": {
      "text/plain": [
       "[9.53214898109436, 8.573786973953247, 16.73877172470093]"
      ]
     },
     "execution_count": 88,
     "metadata": {},
     "output_type": "execute_result"
    }
   ],
   "source": [
    "[np.mean(exec_time[\"intelclang_native\"][solver]) for solver in solvers]"
   ]
  },
  {
   "cell_type": "code",
   "execution_count": 90,
   "id": "3e499e17-079f-492d-9776-b66e4f30a0d7",
   "metadata": {},
   "outputs": [
    {
     "data": {
      "text/plain": [
       "1.0824053425376874"
      ]
     },
     "execution_count": 90,
     "metadata": {},
     "output_type": "execute_result"
    }
   ],
   "source": [
    "10.317648983001709/9.53214898109436"
   ]
  },
  {
   "cell_type": "code",
   "execution_count": null,
   "id": "b828f86e-7550-4341-a644-a3b6f72ad87f",
   "metadata": {},
   "outputs": [],
   "source": []
  }
 ],
 "metadata": {
  "kernelspec": {
   "display_name": "Python 3 (ipykernel)",
   "language": "python",
   "name": "python3"
  },
  "language_info": {
   "codemirror_mode": {
    "name": "ipython",
    "version": 3
   },
   "file_extension": ".py",
   "mimetype": "text/x-python",
   "name": "python",
   "nbconvert_exporter": "python",
   "pygments_lexer": "ipython3",
   "version": "3.10.1"
  }
 },
 "nbformat": 4,
 "nbformat_minor": 5
}
