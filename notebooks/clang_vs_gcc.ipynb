{
 "cells": [
  {
   "cell_type": "markdown",
   "id": "31649ddf-9f86-41ac-a761-1b3de4ed84f6",
   "metadata": {},
   "source": [
    "# <p style=\"text-align: center;\">Direct solver comparison in OGS</p>\n",
    "\n",
    "## Machine: Intel(R) Core(TM) i7-8565U CPU @ 1.80GHz\n",
    "\n",
    "## Model: ThermoHydroMechanics point heat source bechnmark, quadratic elements (2D) 10 time steps"
   ]
  },
  {
   "cell_type": "code",
   "execution_count": 5,
   "id": "064024ac-052b-4e0c-8d5e-f5e1b1f1dec4",
   "metadata": {},
   "outputs": [],
   "source": [
    "from ogs6py.ogs import OGS\n",
    "import numpy as np\n",
    "import matplotlib.pyplot as plt\n",
    "import plot_settings"
   ]
  },
  {
   "cell_type": "code",
   "execution_count": 6,
   "id": "f8db2b8b-b052-4718-b24b-5f07c8faf9c3",
   "metadata": {},
   "outputs": [],
   "source": [
    "runs = 10"
   ]
  },
  {
   "cell_type": "code",
   "execution_count": 7,
   "id": "cac8fb6d-964d-4e9b-9f3b-977a7994a203",
   "metadata": {},
   "outputs": [],
   "source": [
    "solvers = [\"Eigen/SparseLU\",\"Eigen/PardisoLU\", \"Eigen/BiCGSTAB\"]"
   ]
  },
  {
   "cell_type": "code",
   "execution_count": 8,
   "id": "8587f09b",
   "metadata": {},
   "outputs": [],
   "source": [
    "executables = {\"gcc\":\"/home/buchwalj/github/ogs/build_mkl_eigengcc/bin\", \"clang\":\"/home/buchwalj/github/ogs/build_mkl_eigen/bin\"}"
   ]
  },
  {
   "cell_type": "code",
   "execution_count": 26,
   "id": "4d1c88fb-9d7b-4afd-a54d-d44f4de09901",
   "metadata": {},
   "outputs": [],
   "source": [
    "def setSolver(fileobject, solver, compiler):\n",
    "    if solver == \"Eigen/SparseLU\":\n",
    "        fileobject.replace_text(\"SparseLU\", xpath=\"./linear_solvers/linear_solver/eigen/solver_type\")\n",
    "        fileobject.replace_text(\"1\", xpath=\"./linear_solvers/linear_solver/eigen/scaling\")\n",
    "        fileobject.write_input()\n",
    "        fileobject.run_model(path=executables[compiler], logfile=f\"sparselu_{compiler}.out\", wrapper=\"source /opt/intel/oneapi/setvars.sh intel64 &&\")\n",
    "        exec_time = fileobject.exec_time\n",
    "    elif solver == \"Eigen/PardisoLU\":\n",
    "        fileobject.replace_text(\"PardisoLU\", xpath=\"./linear_solvers/linear_solver/eigen/solver_type\")\n",
    "        fileobject.replace_text(\"0\", xpath=\"./linear_solvers/linear_solver/eigen/scaling\")\n",
    "        fileobject.write_input()\n",
    "        fileobject.run_model(path=executables[compiler], logfile=f\"pardisolu_{compiler}.out\", wrapper=\"source /opt/intel/oneapi/setvars.sh intel64 &&\")\n",
    "    elif solver == \"Eigen/BiCGSTAB\":\n",
    "        fileobject.replace_text(\"BiCGSTAB\", xpath=\"./linear_solvers/linear_solver/eigen/solver_type\")\n",
    "        fileobject.replace_text(\"1\", xpath=\"./linear_solvers/linear_solver/eigen/scaling\")\n",
    "        fileobject.write_input()\n",
    "        fileobject.run_model(path=executables[compiler], logfile=f\"bicgstab_{compiler}.out\", wrapper=\"source /opt/intel/oneapi/setvars.sh intel64 &&\")\n",
    "    exec_time = fileobject.exec_time\n",
    "    return exec_time"
   ]
  },
  {
   "cell_type": "code",
   "execution_count": 27,
   "id": "53f30d04-72e7-45f1-ad39-a1210cb7e899",
   "metadata": {
    "tags": []
   },
   "outputs": [
    {
     "name": "stdout",
     "output_type": "stream",
     "text": [
      "OGS finished with project file SparseLU.prj.\n",
      "Execution took 9.100319385528564 s\n",
      "OGS finished with project file SparseLU.prj.\n",
      "Execution took 9.965462684631348 s\n",
      "OGS finished with project file SparseLU.prj.\n",
      "Execution took 9.193060398101807 s\n",
      "OGS finished with project file SparseLU.prj.\n",
      "Execution took 10.187584638595581 s\n",
      "OGS finished with project file SparseLU.prj.\n",
      "Execution took 9.524612188339233 s\n",
      "OGS finished with project file SparseLU.prj.\n",
      "Execution took 10.187516927719116 s\n",
      "OGS finished with project file SparseLU.prj.\n",
      "Execution took 9.919373273849487 s\n",
      "OGS finished with project file SparseLU.prj.\n",
      "Execution took 10.30151629447937 s\n",
      "OGS finished with project file SparseLU.prj.\n",
      "Execution took 10.17797589302063 s\n",
      "OGS finished with project file SparseLU.prj.\n",
      "Execution took 10.299076795578003 s\n",
      "OGS finished with project file SparseLU.prj.\n",
      "Execution took 10.039325952529907 s\n",
      "OGS finished with project file SparseLU.prj.\n",
      "Execution took 10.549376726150513 s\n",
      "OGS finished with project file SparseLU.prj.\n",
      "Execution took 9.95409369468689 s\n",
      "OGS finished with project file SparseLU.prj.\n",
      "Execution took 10.211319923400879 s\n",
      "OGS finished with project file SparseLU.prj.\n",
      "Execution took 9.924878358840942 s\n",
      "OGS finished with project file SparseLU.prj.\n",
      "Execution took 9.93674635887146 s\n",
      "OGS finished with project file SparseLU.prj.\n",
      "Execution took 9.909571170806885 s\n",
      "OGS finished with project file SparseLU.prj.\n",
      "Execution took 9.851781129837036 s\n",
      "OGS finished with project file SparseLU.prj.\n",
      "Execution took 9.307766199111938 s\n",
      "OGS finished with project file SparseLU.prj.\n",
      "Execution took 9.91277813911438 s\n",
      "OGS finished with project file PardisoLU.prj.\n",
      "Execution took 7.539706468582153 s\n",
      "OGS finished with project file PardisoLU.prj.\n",
      "Execution took 7.97663950920105 s\n",
      "OGS finished with project file PardisoLU.prj.\n",
      "Execution took 7.983980655670166 s\n",
      "OGS finished with project file PardisoLU.prj.\n",
      "Execution took 8.45692491531372 s\n",
      "OGS finished with project file PardisoLU.prj.\n",
      "Execution took 7.489026784896851 s\n",
      "OGS finished with project file PardisoLU.prj.\n",
      "Execution took 8.093957662582397 s\n",
      "OGS finished with project file PardisoLU.prj.\n",
      "Execution took 7.975287199020386 s\n",
      "OGS finished with project file PardisoLU.prj.\n",
      "Execution took 8.225960493087769 s\n",
      "OGS finished with project file PardisoLU.prj.\n",
      "Execution took 7.622951507568359 s\n",
      "OGS finished with project file PardisoLU.prj.\n",
      "Execution took 8.240185022354126 s\n",
      "OGS finished with project file PardisoLU.prj.\n",
      "Execution took 7.7892982959747314 s\n",
      "OGS finished with project file PardisoLU.prj.\n",
      "Execution took 8.296239852905273 s\n",
      "OGS finished with project file PardisoLU.prj.\n",
      "Execution took 7.650585174560547 s\n",
      "OGS finished with project file PardisoLU.prj.\n",
      "Execution took 8.254407167434692 s\n",
      "OGS finished with project file PardisoLU.prj.\n",
      "Execution took 7.945984363555908 s\n",
      "OGS finished with project file PardisoLU.prj.\n",
      "Execution took 8.743587732315063 s\n",
      "OGS finished with project file PardisoLU.prj.\n",
      "Execution took 8.371275663375854 s\n",
      "OGS finished with project file PardisoLU.prj.\n",
      "Execution took 8.238946676254272 s\n",
      "OGS finished with project file PardisoLU.prj.\n",
      "Execution took 7.86925196647644 s\n",
      "OGS finished with project file PardisoLU.prj.\n",
      "Execution took 8.313923358917236 s\n",
      "OGS finished with project file BiCGSTAB.prj.\n",
      "Execution took 18.52071475982666 s\n",
      "OGS finished with project file BiCGSTAB.prj.\n",
      "Execution took 22.577773809432983 s\n",
      "OGS finished with project file BiCGSTAB.prj.\n",
      "Execution took 18.421785354614258 s\n",
      "OGS finished with project file BiCGSTAB.prj.\n",
      "Execution took 21.583340406417847 s\n",
      "OGS finished with project file BiCGSTAB.prj.\n",
      "Execution took 18.328853368759155 s\n",
      "OGS finished with project file BiCGSTAB.prj.\n",
      "Execution took 21.540891647338867 s\n",
      "OGS finished with project file BiCGSTAB.prj.\n",
      "Execution took 18.072253704071045 s\n",
      "OGS finished with project file BiCGSTAB.prj.\n",
      "Execution took 22.16825222969055 s\n",
      "OGS finished with project file BiCGSTAB.prj.\n",
      "Execution took 17.981292963027954 s\n",
      "OGS finished with project file BiCGSTAB.prj.\n",
      "Execution took 22.189414501190186 s\n",
      "OGS finished with project file BiCGSTAB.prj.\n",
      "Execution took 19.71082854270935 s\n",
      "OGS finished with project file BiCGSTAB.prj.\n",
      "Execution took 22.654576301574707 s\n",
      "OGS finished with project file BiCGSTAB.prj.\n",
      "Execution took 20.043291568756104 s\n",
      "OGS finished with project file BiCGSTAB.prj.\n",
      "Execution took 22.966739177703857 s\n",
      "OGS finished with project file BiCGSTAB.prj.\n",
      "Execution took 19.592437028884888 s\n",
      "OGS finished with project file BiCGSTAB.prj.\n",
      "Execution took 24.72466731071472 s\n",
      "OGS finished with project file BiCGSTAB.prj.\n",
      "Execution took 18.87824010848999 s\n",
      "OGS finished with project file BiCGSTAB.prj.\n",
      "Execution took 23.252538681030273 s\n",
      "OGS finished with project file BiCGSTAB.prj.\n",
      "Execution took 17.473060131072998 s\n",
      "OGS finished with project file BiCGSTAB.prj.\n",
      "Execution took 23.382203102111816 s\n"
     ]
    }
   ],
   "source": [
    "exec_time = {}\n",
    "for compiler in executables:\n",
    "    exec_time[compiler] = {}\n",
    "for solver in solvers:\n",
    "    for compiler in executables:\n",
    "        exec_time[compiler][solver] = []\n",
    "    for i in range(runs):\n",
    "        for compiler in executables:\n",
    "            solver_ = solver.split(\"/\")[-1]\n",
    "            m = OGS(INPUT_FILE=\"pointheatsource_quadratic-mesh.prj\", PROJECT_FILE=f\"{solver_}.prj\")\n",
    "            exec_time[compiler][solver].append(setSolver(m, solver,compiler))"
   ]
  },
  {
   "cell_type": "code",
   "execution_count": 42,
   "id": "0832b4b8-7d36-4718-8e4f-67b5dad916de",
   "metadata": {},
   "outputs": [
    {
     "data": {
      "image/png": "[encoded data removed]",
      "text/plain": [
       "<Figure size 576x432 with 1 Axes>"
      ]
     },
     "metadata": {
      "needs_background": "light"
     },
     "output_type": "display_data"
    }
   ],
   "source": [
    "fig = plt.figure()\n",
    "plt.rcParams.update({'font.size': 12})\n",
    "ax = fig.add_axes([0,0,1,1])\n",
    "slvrs_x = np.arange(len(solvers))\n",
    "ax.bar(slvrs_x,[np.min(exec_time[\"gcc\"][solver]) for solver in solvers], color='b', alpha=0.8, width=0.25,label=\"GCC\")\n",
    "ax.bar(slvrs_x+0.25,[np.min(exec_time[\"clang\"][solver]) for solver in solvers], color='r', alpha=0.8,width=0.25, label=\"Intel/Clang\")\n",
    "plt.errorbar(slvrs_x, [np.mean(exec_time[\"gcc\"][solver]) for solver in solvers], yerr=[np.std(exec_time[\"gcc\"][solver]) for solver in solvers], color=\"blue\", capsize=10)\n",
    "plt.errorbar(slvrs_x+0.25, [np.mean(exec_time[\"clang\"][solver]) for solver in solvers], yerr=[np.std(exec_time[\"clang\"][solver]) for solver in solvers], color=\"red\", capsize=10)\n",
    "plt.xticks([r+0.1 for r in range(len(solvers))], solvers)\n",
    "plt.legend()\n",
    "plt.show()"
   ]
  },
  {
   "cell_type": "code",
   "execution_count": 14,
   "id": "6e0b3290-f006-4344-bb64-d42e4721fb5d",
   "metadata": {},
   "outputs": [
    {
     "data": {
      "text/plain": [
       "[49.63165981769562,\n",
       " 11.968478202819824,\n",
       " 9.88496000766754,\n",
       " 8.763875651359559,\n",
       " 7.185970163345337]"
      ]
     },
     "execution_count": 14,
     "metadata": {},
     "output_type": "execute_result"
    }
   ],
   "source": [
    "[np.sum(exec_time[solver])/runs for solver in solvers]"
   ]
  }
 ],
 "metadata": {
  "kernelspec": {
   "display_name": "Python 3 (ipykernel)",
   "language": "python",
   "name": "python3"
  },
  "language_info": {
   "codemirror_mode": {
    "name": "ipython",
    "version": 3
   },
   "file_extension": ".py",
   "mimetype": "text/x-python",
   "name": "python",
   "nbconvert_exporter": "python",
   "pygments_lexer": "ipython3",
   "version": "3.10.1"
  }
 },
 "nbformat": 4,
 "nbformat_minor": 5
}
