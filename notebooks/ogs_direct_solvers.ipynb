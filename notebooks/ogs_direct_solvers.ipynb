{
 "cells": [
  {
   "cell_type": "markdown",
   "id": "31649ddf-9f86-41ac-a761-1b3de4ed84f6",
   "metadata": {},
   "source": [
    "# <p style=\"text-align: center;\">Direct solver comparison in OGS</p>\n",
    "\n",
    "## Machine: Intel(R) Core(TM) i7-8565U CPU @ 1.80GHz\n",
    "\n",
    "## Model: ThermoRichardsMechanics (2D) 3463 nodes 10 time steps"
   ]
  },
  {
   "cell_type": "code",
   "execution_count": 8,
   "id": "064024ac-052b-4e0c-8d5e-f5e1b1f1dec4",
   "metadata": {},
   "outputs": [],
   "source": [
    "from ogs6py.ogs import OGS\n",
    "import numpy as np\n",
    "import matplotlib.pyplot as plt\n",
    "import plot_settings"
   ]
  },
  {
   "cell_type": "code",
   "execution_count": 9,
   "id": "f8db2b8b-b052-4718-b24b-5f07c8faf9c3",
   "metadata": {},
   "outputs": [],
   "source": [
    "runs = 10"
   ]
  },
  {
   "cell_type": "code",
   "execution_count": 10,
   "id": "0c0cb00d-4af4-402a-a339-277772596fa7",
   "metadata": {},
   "outputs": [],
   "source": [
    "folder= \"/home/buchwalj/OGS_Solver_Comparison/data/sims\""
   ]
  },
  {
   "cell_type": "code",
   "execution_count": 11,
   "id": "cac8fb6d-964d-4e9b-9f3b-977a7994a203",
   "metadata": {},
   "outputs": [],
   "source": [
    "solvers = [\"Eigen/SparseLU\",\"PETSc/SuperLU\", \"PETSc/MUMPS\", \"Eigen/PardisoLU\", \"PETSc/PardisoLU\"]"
   ]
  },
  {
   "cell_type": "code",
   "execution_count": 12,
   "id": "4d1c88fb-9d7b-4afd-a54d-d44f4de09901",
   "metadata": {},
   "outputs": [],
   "source": [
    "def setSolver(fileobject, solver):\n",
    "    if solver == \"Eigen/SparseLU\":\n",
    "        fileobject.replace_text(\"SparseLU\", xpath=\"./linear_solvers/linear_solver/eigen/solver_type\")\n",
    "        fileobject.write_input()\n",
    "        fileobject.run_model(path=\"/home/buchwalj/github/ogs/build_mkl/bin\", logfile=f\"{folder}/sparselu.out\")\n",
    "        exec_time = fileobject.exec_time\n",
    "    elif solver == \"Eigen/PardisoLU\":\n",
    "        fileobject.replace_text(\"PardisoLU\", xpath=\"./linear_solvers/linear_solver/eigen/solver_type\")\n",
    "        fileobject.write_input()\n",
    "        fileobject.run_model(path=\"/home/buchwalj/github/ogs/build_mkl/bin\", logfile=f\"{folder}/pardisolueigen.out\")\n",
    "    elif solver == \"PETSc/SuperLU\":\n",
    "        fileobject.replace_text(\"-hc_mat_type aij -hc_pc_type lu -hc_pc_factor_mat_solver_type superlu_dist -hc_ksp_view\", xpath=\"./linear_solvers/linear_solver/petsc/parameters\")\n",
    "        fileobject.write_input()\n",
    "        fileobject.run_model(path=\"/home/buchwalj/github/ogs/build_mkl_petsc/bin\", logfile=f\"{folder}/superlu.out\")\n",
    "    elif solver == \"PETSc/MUMPS\":\n",
    "        fileobject.replace_text(\"-hc_mat_type aij -hc_pc_type lu -hc_pc_factor_mat_solver_type mumps -hc_ksp_view\", xpath=\"./linear_solvers/linear_solver/petsc/parameters\")\n",
    "        fileobject.write_input()\n",
    "        fileobject.run_model(path=\"/home/buchwalj/github/ogs/build_mkl_petsc/bin\", logfile=f\"{folder}/mumps.out\")\n",
    "    elif solver == \"PETSc/PardisoLU\":\n",
    "        fileobject.replace_text(\"-hc_mat_type aij -hc_pc_type lu -hc_pc_factor_mat_solver_type mkl_pardiso -hc_ksp_view\", xpath=\"./linear_solvers/linear_solver/petsc/parameters\")\n",
    "        fileobject.write_input()\n",
    "        fileobject.run_model(path=\"/home/buchwalj/github/ogs/build_mkl_petsc/bin\", logfile=f\"{folder}/pardisolupetsc.out\")\n",
    "    exec_time = fileobject.exec_time\n",
    "    return exec_time"
   ]
  },
  {
   "cell_type": "code",
   "execution_count": 13,
   "id": "53f30d04-72e7-45f1-ad39-a1210cb7e899",
   "metadata": {
    "tags": []
   },
   "outputs": [
    {
     "name": "stdout",
     "output_type": "stream",
     "text": [
      "OGS finished with project file /home/buchwalj/OGS_Solver_Comparison/data/sims/SparseLU.prj.\n",
      "Execution took 50.49041128158569 s\n",
      "OGS finished with project file /home/buchwalj/OGS_Solver_Comparison/data/sims/SparseLU.prj.\n",
      "Execution took 52.98560833930969 s\n",
      "OGS finished with project file /home/buchwalj/OGS_Solver_Comparison/data/sims/SparseLU.prj.\n",
      "Execution took 53.14775562286377 s\n",
      "OGS finished with project file /home/buchwalj/OGS_Solver_Comparison/data/sims/SparseLU.prj.\n",
      "Execution took 51.196815729141235 s\n",
      "OGS finished with project file /home/buchwalj/OGS_Solver_Comparison/data/sims/SparseLU.prj.\n",
      "Execution took 52.7239305973053 s\n",
      "OGS finished with project file /home/buchwalj/OGS_Solver_Comparison/data/sims/SparseLU.prj.\n",
      "Execution took 51.69897508621216 s\n",
      "OGS finished with project file /home/buchwalj/OGS_Solver_Comparison/data/sims/SparseLU.prj.\n",
      "Execution took 51.90738081932068 s\n",
      "OGS finished with project file /home/buchwalj/OGS_Solver_Comparison/data/sims/SparseLU.prj.\n",
      "Execution took 52.10924577713013 s\n",
      "OGS finished with project file /home/buchwalj/OGS_Solver_Comparison/data/sims/SparseLU.prj.\n",
      "Execution took 52.15295219421387 s\n",
      "OGS finished with project file /home/buchwalj/OGS_Solver_Comparison/data/sims/SparseLU.prj.\n",
      "Execution took 50.09253168106079 s\n",
      "OGS finished with project file /home/buchwalj/OGS_Solver_Comparison/data/sims/SuperLU.prj.\n",
      "Execution took 11.374691009521484 s\n",
      "OGS finished with project file /home/buchwalj/OGS_Solver_Comparison/data/sims/SuperLU.prj.\n",
      "Execution took 11.985652208328247 s\n",
      "OGS finished with project file /home/buchwalj/OGS_Solver_Comparison/data/sims/SuperLU.prj.\n",
      "Execution took 11.648500680923462 s\n",
      "OGS finished with project file /home/buchwalj/OGS_Solver_Comparison/data/sims/SuperLU.prj.\n",
      "Execution took 11.89895749092102 s\n",
      "OGS finished with project file /home/buchwalj/OGS_Solver_Comparison/data/sims/SuperLU.prj.\n",
      "Execution took 11.68630599975586 s\n",
      "OGS finished with project file /home/buchwalj/OGS_Solver_Comparison/data/sims/SuperLU.prj.\n",
      "Execution took 11.707047462463379 s\n",
      "OGS finished with project file /home/buchwalj/OGS_Solver_Comparison/data/sims/SuperLU.prj.\n",
      "Execution took 12.407049417495728 s\n",
      "OGS finished with project file /home/buchwalj/OGS_Solver_Comparison/data/sims/SuperLU.prj.\n",
      "Execution took 13.405836582183838 s\n",
      "OGS finished with project file /home/buchwalj/OGS_Solver_Comparison/data/sims/SuperLU.prj.\n",
      "Execution took 11.93043828010559 s\n",
      "OGS finished with project file /home/buchwalj/OGS_Solver_Comparison/data/sims/SuperLU.prj.\n",
      "Execution took 12.911216974258423 s\n",
      "OGS finished with project file /home/buchwalj/OGS_Solver_Comparison/data/sims/MUMPS.prj.\n",
      "Execution took 11.145464420318604 s\n",
      "OGS finished with project file /home/buchwalj/OGS_Solver_Comparison/data/sims/MUMPS.prj.\n",
      "Execution took 10.632961511611938 s\n",
      "OGS finished with project file /home/buchwalj/OGS_Solver_Comparison/data/sims/MUMPS.prj.\n",
      "Execution took 11.400073051452637 s\n",
      "OGS finished with project file /home/buchwalj/OGS_Solver_Comparison/data/sims/MUMPS.prj.\n",
      "Execution took 10.570711612701416 s\n",
      "OGS finished with project file /home/buchwalj/OGS_Solver_Comparison/data/sims/MUMPS.prj.\n",
      "Execution took 11.474082946777344 s\n",
      "OGS finished with project file /home/buchwalj/OGS_Solver_Comparison/data/sims/MUMPS.prj.\n",
      "Execution took 10.758047103881836 s\n",
      "OGS finished with project file /home/buchwalj/OGS_Solver_Comparison/data/sims/MUMPS.prj.\n",
      "Execution took 11.044139623641968 s\n",
      "OGS finished with project file /home/buchwalj/OGS_Solver_Comparison/data/sims/MUMPS.prj.\n",
      "Execution took 11.67264461517334 s\n",
      "OGS finished with project file /home/buchwalj/OGS_Solver_Comparison/data/sims/MUMPS.prj.\n",
      "Execution took 11.81342625617981 s\n",
      "OGS finished with project file /home/buchwalj/OGS_Solver_Comparison/data/sims/MUMPS.prj.\n",
      "Execution took 10.996734857559204 s\n",
      "OGS finished with project file /home/buchwalj/OGS_Solver_Comparison/data/sims/PardisoLU.prj.\n",
      "Execution took 8.43641710281372 s\n",
      "OGS finished with project file /home/buchwalj/OGS_Solver_Comparison/data/sims/PardisoLU.prj.\n",
      "Execution took 8.44594931602478 s\n",
      "OGS finished with project file /home/buchwalj/OGS_Solver_Comparison/data/sims/PardisoLU.prj.\n",
      "Execution took 8.60658311843872 s\n",
      "OGS finished with project file /home/buchwalj/OGS_Solver_Comparison/data/sims/PardisoLU.prj.\n",
      "Execution took 8.742877006530762 s\n",
      "OGS finished with project file /home/buchwalj/OGS_Solver_Comparison/data/sims/PardisoLU.prj.\n",
      "Execution took 8.9535813331604 s\n",
      "OGS finished with project file /home/buchwalj/OGS_Solver_Comparison/data/sims/PardisoLU.prj.\n",
      "Execution took 8.672220468521118 s\n",
      "OGS finished with project file /home/buchwalj/OGS_Solver_Comparison/data/sims/PardisoLU.prj.\n",
      "Execution took 8.415082693099976 s\n",
      "OGS finished with project file /home/buchwalj/OGS_Solver_Comparison/data/sims/PardisoLU.prj.\n",
      "Execution took 8.461114406585693 s\n",
      "OGS finished with project file /home/buchwalj/OGS_Solver_Comparison/data/sims/PardisoLU.prj.\n",
      "Execution took 8.422178268432617 s\n",
      "OGS finished with project file /home/buchwalj/OGS_Solver_Comparison/data/sims/PardisoLU.prj.\n",
      "Execution took 8.649124383926392 s\n",
      "OGS finished with project file /home/buchwalj/OGS_Solver_Comparison/data/sims/PardisoLU.prj.\n",
      "Execution took 6.956660747528076 s\n",
      "OGS finished with project file /home/buchwalj/OGS_Solver_Comparison/data/sims/PardisoLU.prj.\n",
      "Execution took 6.888463735580444 s\n",
      "OGS finished with project file /home/buchwalj/OGS_Solver_Comparison/data/sims/PardisoLU.prj.\n",
      "Execution took 6.92721152305603 s\n",
      "OGS finished with project file /home/buchwalj/OGS_Solver_Comparison/data/sims/PardisoLU.prj.\n",
      "Execution took 6.9030985832214355 s\n",
      "OGS finished with project file /home/buchwalj/OGS_Solver_Comparison/data/sims/PardisoLU.prj.\n",
      "Execution took 6.878805160522461 s\n",
      "OGS finished with project file /home/buchwalj/OGS_Solver_Comparison/data/sims/PardisoLU.prj.\n",
      "Execution took 6.957399129867554 s\n",
      "OGS finished with project file /home/buchwalj/OGS_Solver_Comparison/data/sims/PardisoLU.prj.\n",
      "Execution took 6.897643804550171 s\n",
      "OGS finished with project file /home/buchwalj/OGS_Solver_Comparison/data/sims/PardisoLU.prj.\n",
      "Execution took 7.18851375579834 s\n",
      "OGS finished with project file /home/buchwalj/OGS_Solver_Comparison/data/sims/PardisoLU.prj.\n",
      "Execution took 7.259588003158569 s\n",
      "OGS finished with project file /home/buchwalj/OGS_Solver_Comparison/data/sims/PardisoLU.prj.\n",
      "Execution took 6.9190099239349365 s\n"
     ]
    }
   ],
   "source": [
    "exec_time = {}\n",
    "for solver in solvers:\n",
    "    exec_time[solver] = []\n",
    "    for i in range(runs):\n",
    "        solver_ = solver.split(\"/\")[-1]\n",
    "        m = OGS(INPUT_FILE=f\"{folder}/Decovalex-0.prj\", PROJECT_FILE=f\"{folder}/{solver_}.prj\", MKL=True, OMP_NUM_THREADS=4)\n",
    "        exec_time[solver].append(setSolver(m, solver))"
   ]
  },
  {
   "cell_type": "code",
   "execution_count": 21,
   "id": "afe38cd6-326e-4897-ba6a-c36ff0737523",
   "metadata": {},
   "outputs": [
    {
     "data": {
      "text/plain": [
       "51.85056071281433"
      ]
     },
     "execution_count": 21,
     "metadata": {},
     "output_type": "execute_result"
    }
   ],
   "source": [
    "np.mean(exec_time['Eigen/SparseLU'])"
   ]
  },
  {
   "cell_type": "code",
   "execution_count": 23,
   "id": "60c00e52-53d0-415a-b762-8e94dc59b09a",
   "metadata": {},
   "outputs": [
    {
     "data": {
      "text/plain": [
       "6.977639436721802"
      ]
     },
     "execution_count": 23,
     "metadata": {},
     "output_type": "execute_result"
    }
   ],
   "source": [
    "np.sum(exec_time[solver])/runs"
   ]
  },
  {
   "cell_type": "code",
   "execution_count": 36,
   "id": "0832b4b8-7d36-4718-8e4f-67b5dad916de",
   "metadata": {},
   "outputs": [
    {
     "data": {
      "image/png": "[encoded data removed]",
      "text/plain": [
       "<Figure size 576x432 with 1 Axes>"
      ]
     },
     "metadata": {
      "needs_background": "light"
     },
     "output_type": "display_data"
    }
   ],
   "source": [
    "fig = plt.figure()\n",
    "plt.rcParams.update({'font.size': 12})\n",
    "ax = fig.add_axes([0,0,1,1])\n",
    "ax.bar(solvers,[np.min(exec_time[solver]) for solver in solvers], alpha=0.6)\n",
    "plt.errorbar(solvers, [np.mean(exec_time[solver]) for solver in solvers], yerr=[np.std(exec_time[solver]) for solver in solvers], color=\"black\", capsize=10)\n",
    "plt.show()"
   ]
  },
  {
   "cell_type": "code",
   "execution_count": 15,
   "id": "6e0b3290-f006-4344-bb64-d42e4721fb5d",
   "metadata": {},
   "outputs": [
    {
     "data": {
      "text/plain": [
       "[51.85056071281433,\n",
       " 12.095569610595703,\n",
       " 11.15082859992981,\n",
       " 8.580512809753419,\n",
       " 6.977639436721802]"
      ]
     },
     "execution_count": 15,
     "metadata": {},
     "output_type": "execute_result"
    }
   ],
   "source": [
    "[np.sum(exec_time[solver])/runs for solver in solvers]"
   ]
  }
 ],
 "metadata": {
  "kernelspec": {
   "display_name": "Python 3 (ipykernel)",
   "language": "python",
   "name": "python3"
  },
  "language_info": {
   "codemirror_mode": {
    "name": "ipython",
    "version": 3
   },
   "file_extension": ".py",
   "mimetype": "text/x-python",
   "name": "python",
   "nbconvert_exporter": "python",
   "pygments_lexer": "ipython3",
   "version": "3.9.7"
  }
 },
 "nbformat": 4,
 "nbformat_minor": 5
}
