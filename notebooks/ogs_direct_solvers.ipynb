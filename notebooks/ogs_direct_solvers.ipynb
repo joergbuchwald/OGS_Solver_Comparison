{
 "cells": [
  {
   "cell_type": "markdown",
   "id": "31649ddf-9f86-41ac-a761-1b3de4ed84f6",
   "metadata": {},
   "source": [
    "# <p style=\"text-align: center;\">Direct solver comparison in OGS</p>\n",
    "\n",
    "## Machine: Intel(R) Core(TM) i7-8565U CPU @ 1.80GHz\n",
    "\n",
    "## Model: ThermoRichardsMechanics (2D) 3463 nodes 10 time steps"
   ]
  },
  {
   "cell_type": "code",
   "execution_count": 1,
   "id": "064024ac-052b-4e0c-8d5e-f5e1b1f1dec4",
   "metadata": {},
   "outputs": [],
   "source": [
    "from ogs6py.ogs import OGS\n",
    "import numpy as np\n",
    "import matplotlib.pyplot as plt\n",
    "import plot_settings"
   ]
  },
  {
   "cell_type": "code",
   "execution_count": 2,
   "id": "f8db2b8b-b052-4718-b24b-5f07c8faf9c3",
   "metadata": {},
   "outputs": [],
   "source": [
    "runs = 10"
   ]
  },
  {
   "cell_type": "code",
   "execution_count": 3,
   "id": "0c0cb00d-4af4-402a-a339-277772596fa7",
   "metadata": {},
   "outputs": [],
   "source": [
    "folder= \"/home/buchwalj/OGS_Solver_Comparison/data/sims\""
   ]
  },
  {
   "cell_type": "code",
   "execution_count": 4,
   "id": "cac8fb6d-964d-4e9b-9f3b-977a7994a203",
   "metadata": {},
   "outputs": [],
   "source": [
    "solvers = [\"Eigen/SparseLU\",\"PETSc/SuperLU\", \"PETSc/MUMPS\", \"Eigen/PardisoLU\"]"
   ]
  },
  {
   "cell_type": "code",
   "execution_count": 5,
   "id": "4d1c88fb-9d7b-4afd-a54d-d44f4de09901",
   "metadata": {},
   "outputs": [],
   "source": [
    "def setSolver(fileobject, solver):\n",
    "    if solver == \"Eigen/SparseLU\":\n",
    "        fileobject.replace_text(\"SparseLU\", xpath=\"./linear_solvers/linear_solver/eigen/solver_type\")\n",
    "        fileobject.write_input()\n",
    "        fileobject.run_model(path=\"/home/buchwalj/github/ogs/build_mkl/bin\", logfile=f\"{folder}/sparselu.out\")\n",
    "        exec_time = fileobject.exec_time\n",
    "    elif solver == \"Eigen/PardisoLU\":\n",
    "        fileobject.replace_text(\"PardisoLU\", xpath=\"./linear_solvers/linear_solver/eigen/solver_type\")\n",
    "        fileobject.write_input()\n",
    "        fileobject.run_model(path=\"/home/buchwalj/github/ogs/build_mkl/bin\", logfile=f\"{folder}/pardisolu.out\")\n",
    "    elif solver == \"PETSc/SuperLU\":\n",
    "        fileobject.replace_text(\"-hc_mat_type aij -hc_pc_type lu -hc_pc_factor_mat_solver_type superlu_dist -hc_ksp_view\", xpath=\"./linear_solvers/linear_solver/petsc/parameters\")\n",
    "        fileobject.write_input()\n",
    "        fileobject.run_model(path=\"/home/buchwalj/github/ogs/build_mkl_petsc/bin\", logfile=f\"{folder}/superlu.out\")\n",
    "    elif solver == \"PETSc/MUMPS\":\n",
    "        fileobject.replace_text(\"-hc_mat_type aij -hc_pc_type lu -hc_pc_factor_mat_solver_type mumps -hc_ksp_view\", xpath=\"./linear_solvers/linear_solver/petsc/parameters\")\n",
    "        fileobject.write_input()\n",
    "        fileobject.run_model(path=\"/home/buchwalj/github/ogs/build_mkl_petsc/bin\", logfile=f\"{folder}/mumps.out\")\n",
    "    exec_time = fileobject.exec_time\n",
    "    return exec_time"
   ]
  },
  {
   "cell_type": "code",
   "execution_count": 6,
   "id": "53f30d04-72e7-45f1-ad39-a1210cb7e899",
   "metadata": {
    "collapsed": true,
    "jupyter": {
     "outputs_hidden": true
    },
    "tags": []
   },
   "outputs": [
    {
     "name": "stdout",
     "output_type": "stream",
     "text": [
      "OGS finished with project file /home/buchwalj/OGS_Solver_Comparison/data/sims/SparseLU.prj.\n",
      "Execution took 47.84388828277588 s\n",
      "OGS finished with project file /home/buchwalj/OGS_Solver_Comparison/data/sims/SparseLU.prj.\n",
      "Execution took 48.25065326690674 s\n",
      "OGS finished with project file /home/buchwalj/OGS_Solver_Comparison/data/sims/SparseLU.prj.\n",
      "Execution took 48.37699270248413 s\n",
      "OGS finished with project file /home/buchwalj/OGS_Solver_Comparison/data/sims/SparseLU.prj.\n",
      "Execution took 49.804137229919434 s\n",
      "OGS finished with project file /home/buchwalj/OGS_Solver_Comparison/data/sims/SparseLU.prj.\n",
      "Execution took 48.68164801597595 s\n",
      "OGS finished with project file /home/buchwalj/OGS_Solver_Comparison/data/sims/SparseLU.prj.\n",
      "Execution took 50.1311776638031 s\n",
      "OGS finished with project file /home/buchwalj/OGS_Solver_Comparison/data/sims/SparseLU.prj.\n",
      "Execution took 48.712085008621216 s\n",
      "OGS finished with project file /home/buchwalj/OGS_Solver_Comparison/data/sims/SparseLU.prj.\n",
      "Execution took 49.80013632774353 s\n",
      "OGS finished with project file /home/buchwalj/OGS_Solver_Comparison/data/sims/SparseLU.prj.\n",
      "Execution took 50.537625551223755 s\n",
      "OGS finished with project file /home/buchwalj/OGS_Solver_Comparison/data/sims/SparseLU.prj.\n",
      "Execution took 49.64567971229553 s\n",
      "OGS finished with project file /home/buchwalj/OGS_Solver_Comparison/data/sims/SuperLU.prj.\n",
      "Execution took 12.014601707458496 s\n",
      "OGS finished with project file /home/buchwalj/OGS_Solver_Comparison/data/sims/SuperLU.prj.\n",
      "Execution took 12.148684978485107 s\n",
      "OGS finished with project file /home/buchwalj/OGS_Solver_Comparison/data/sims/SuperLU.prj.\n",
      "Execution took 12.184812068939209 s\n",
      "OGS finished with project file /home/buchwalj/OGS_Solver_Comparison/data/sims/SuperLU.prj.\n",
      "Execution took 12.260991096496582 s\n",
      "OGS finished with project file /home/buchwalj/OGS_Solver_Comparison/data/sims/SuperLU.prj.\n",
      "Execution took 12.481026887893677 s\n",
      "OGS finished with project file /home/buchwalj/OGS_Solver_Comparison/data/sims/SuperLU.prj.\n",
      "Execution took 12.213577032089233 s\n",
      "OGS finished with project file /home/buchwalj/OGS_Solver_Comparison/data/sims/SuperLU.prj.\n",
      "Execution took 12.286821603775024 s\n",
      "OGS finished with project file /home/buchwalj/OGS_Solver_Comparison/data/sims/SuperLU.prj.\n",
      "Execution took 12.680519819259644 s\n",
      "OGS finished with project file /home/buchwalj/OGS_Solver_Comparison/data/sims/SuperLU.prj.\n",
      "Execution took 12.541754722595215 s\n",
      "OGS finished with project file /home/buchwalj/OGS_Solver_Comparison/data/sims/SuperLU.prj.\n",
      "Execution took 12.729614019393921 s\n",
      "OGS finished with project file /home/buchwalj/OGS_Solver_Comparison/data/sims/MUMPS.prj.\n",
      "Execution took 10.624442338943481 s\n",
      "OGS finished with project file /home/buchwalj/OGS_Solver_Comparison/data/sims/MUMPS.prj.\n",
      "Execution took 10.634034395217896 s\n",
      "OGS finished with project file /home/buchwalj/OGS_Solver_Comparison/data/sims/MUMPS.prj.\n",
      "Execution took 11.234959125518799 s\n",
      "OGS finished with project file /home/buchwalj/OGS_Solver_Comparison/data/sims/MUMPS.prj.\n",
      "Execution took 10.609048843383789 s\n",
      "OGS finished with project file /home/buchwalj/OGS_Solver_Comparison/data/sims/MUMPS.prj.\n",
      "Execution took 10.941051244735718 s\n",
      "OGS finished with project file /home/buchwalj/OGS_Solver_Comparison/data/sims/MUMPS.prj.\n",
      "Execution took 10.677404880523682 s\n",
      "OGS finished with project file /home/buchwalj/OGS_Solver_Comparison/data/sims/MUMPS.prj.\n",
      "Execution took 10.66113018989563 s\n",
      "OGS finished with project file /home/buchwalj/OGS_Solver_Comparison/data/sims/MUMPS.prj.\n",
      "Execution took 10.854721784591675 s\n",
      "OGS finished with project file /home/buchwalj/OGS_Solver_Comparison/data/sims/MUMPS.prj.\n",
      "Execution took 10.727550745010376 s\n",
      "OGS finished with project file /home/buchwalj/OGS_Solver_Comparison/data/sims/MUMPS.prj.\n",
      "Execution took 10.755518674850464 s\n",
      "OGS finished with project file /home/buchwalj/OGS_Solver_Comparison/data/sims/PardisoLU.prj.\n",
      "Execution took 8.091423749923706 s\n",
      "OGS finished with project file /home/buchwalj/OGS_Solver_Comparison/data/sims/PardisoLU.prj.\n",
      "Execution took 8.083441734313965 s\n",
      "OGS finished with project file /home/buchwalj/OGS_Solver_Comparison/data/sims/PardisoLU.prj.\n",
      "Execution took 8.06438684463501 s\n",
      "OGS finished with project file /home/buchwalj/OGS_Solver_Comparison/data/sims/PardisoLU.prj.\n",
      "Execution took 8.029344081878662 s\n",
      "OGS finished with project file /home/buchwalj/OGS_Solver_Comparison/data/sims/PardisoLU.prj.\n",
      "Execution took 8.044579267501831 s\n",
      "OGS finished with project file /home/buchwalj/OGS_Solver_Comparison/data/sims/PardisoLU.prj.\n",
      "Execution took 8.03986644744873 s\n",
      "OGS finished with project file /home/buchwalj/OGS_Solver_Comparison/data/sims/PardisoLU.prj.\n",
      "Execution took 8.040592193603516 s\n",
      "OGS finished with project file /home/buchwalj/OGS_Solver_Comparison/data/sims/PardisoLU.prj.\n",
      "Execution took 8.085367918014526 s\n",
      "OGS finished with project file /home/buchwalj/OGS_Solver_Comparison/data/sims/PardisoLU.prj.\n",
      "Execution took 8.050318479537964 s\n",
      "OGS finished with project file /home/buchwalj/OGS_Solver_Comparison/data/sims/PardisoLU.prj.\n",
      "Execution took 8.078779458999634 s\n"
     ]
    }
   ],
   "source": [
    "exec_time = {}\n",
    "for solver in solvers:\n",
    "    exec_time[solver] = []\n",
    "    for i in range(runs):\n",
    "        solver_ = solver.split(\"/\")[-1]\n",
    "        m = OGS(INPUT_FILE=f\"{folder}/Decovalex-0.prj\", PROJECT_FILE=f\"{folder}/{solver_}.prj\", MKL=True, OMP_NUM_THREADS=4)\n",
    "        exec_time[solver].append(setSolver(m, solver))"
   ]
  },
  {
   "cell_type": "code",
   "execution_count": 7,
   "id": "0832b4b8-7d36-4718-8e4f-67b5dad916de",
   "metadata": {},
   "outputs": [
    {
     "data": {
      "image/png": "[encoded data removed]",
      "text/plain": [
       "<Figure size 576x432 with 1 Axes>"
      ]
     },
     "metadata": {
      "needs_background": "light"
     },
     "output_type": "display_data"
    }
   ],
   "source": [
    "fig = plt.figure()\n",
    "ax = fig.add_axes([0,0,1,1])\n",
    "ax.bar(solvers,[np.sum(exec_time[solver])/runs for solver in solvers])\n",
    "plt.show()"
   ]
  },
  {
   "cell_type": "code",
   "execution_count": 8,
   "id": "6e0b3290-f006-4344-bb64-d42e4721fb5d",
   "metadata": {},
   "outputs": [
    {
     "data": {
      "text/plain": [
       "[49.17840237617493, 12.35424039363861, 10.77198622226715, 8.060810017585755]"
      ]
     },
     "execution_count": 8,
     "metadata": {},
     "output_type": "execute_result"
    }
   ],
   "source": [
    "[np.sum(exec_time[solver])/runs for solver in solvers]"
   ]
  }
 ],
 "metadata": {
  "kernelspec": {
   "display_name": "Python 3 (ipykernel)",
   "language": "python",
   "name": "python3"
  },
  "language_info": {
   "codemirror_mode": {
    "name": "ipython",
    "version": 3
   },
   "file_extension": ".py",
   "mimetype": "text/x-python",
   "name": "python",
   "nbconvert_exporter": "python",
   "pygments_lexer": "ipython3",
   "version": "3.9.6"
  }
 },
 "nbformat": 4,
 "nbformat_minor": 5
}
