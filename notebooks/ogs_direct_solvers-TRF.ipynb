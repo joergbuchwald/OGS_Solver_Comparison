{
 "cells": [
  {
   "cell_type": "markdown",
   "id": "31649ddf-9f86-41ac-a761-1b3de4ed84f6",
   "metadata": {},
   "source": [
    "# <p style=\"text-align: center;\">Direct solver comparison in OGS</p>\n",
    "\n",
    "## Machine: Intel(R) Core(TM) i7-8565U CPU @ 1.80GHz\n",
    "\n",
    "## Model: ThermoRichardsFlow (2D) 3463 nodes 10 time steps"
   ]
  },
  {
   "cell_type": "code",
   "execution_count": 1,
   "id": "064024ac-052b-4e0c-8d5e-f5e1b1f1dec4",
   "metadata": {},
   "outputs": [],
   "source": [
    "from ogs6py.ogs import OGS\n",
    "import numpy as np\n",
    "import matplotlib.pyplot as plt\n",
    "import plot_settings"
   ]
  },
  {
   "cell_type": "code",
   "execution_count": 2,
   "id": "f8db2b8b-b052-4718-b24b-5f07c8faf9c3",
   "metadata": {},
   "outputs": [],
   "source": [
    "runs = 10"
   ]
  },
  {
   "cell_type": "code",
   "execution_count": 3,
   "id": "0c0cb00d-4af4-402a-a339-277772596fa7",
   "metadata": {},
   "outputs": [],
   "source": [
    "folder= \"/home/buchwalj/OGS_Solver_Comparison/data/sims\""
   ]
  },
  {
   "cell_type": "code",
   "execution_count": 4,
   "id": "cac8fb6d-964d-4e9b-9f3b-977a7994a203",
   "metadata": {},
   "outputs": [],
   "source": [
    "solvers = [\"Eigen/SparseLU\",\"PETSc/SuperLU\", \"PETSc/MUMPS\", \"Eigen/PardisoLU\"]"
   ]
  },
  {
   "cell_type": "code",
   "execution_count": 5,
   "id": "4d1c88fb-9d7b-4afd-a54d-d44f4de09901",
   "metadata": {},
   "outputs": [],
   "source": [
    "def setSolver(fileobject, solver):\n",
    "    if solver == \"Eigen/SparseLU\":\n",
    "        fileobject.replace_text(\"SparseLU\", xpath=\"./linear_solvers/linear_solver/eigen/solver_type\")\n",
    "        fileobject.write_input()\n",
    "        fileobject.run_model(path=\"/home/buchwalj/github/ogs/build_mkl/bin\", logfile=f\"{folder}/sparselu.out\")\n",
    "        exec_time = fileobject.exec_time\n",
    "    elif solver == \"Eigen/PardisoLU\":\n",
    "        fileobject.replace_text(\"PardisoLU\", xpath=\"./linear_solvers/linear_solver/eigen/solver_type\")\n",
    "        fileobject.write_input()\n",
    "        fileobject.run_model(path=\"/home/buchwalj/github/ogs/build_mkl/bin\", logfile=f\"{folder}/pardisolu.out\")\n",
    "    elif solver == \"PETSc/SuperLU\":\n",
    "        fileobject.replace_text(\"-hc_mat_type aij -hc_pc_type lu -hc_pc_factor_mat_solver_type superlu_dist -hc_ksp_view\", xpath=\"./linear_solvers/linear_solver/petsc/parameters\")\n",
    "        fileobject.write_input()\n",
    "        fileobject.run_model(path=\"/home/buchwalj/github/ogs/build_mkl_petsc/bin\", logfile=f\"{folder}/superlu.out\")\n",
    "    elif solver == \"PETSc/MUMPS\":\n",
    "        fileobject.replace_text(\"-hc_mat_type aij -hc_pc_type lu -hc_pc_factor_mat_solver_type mumps -hc_ksp_view\", xpath=\"./linear_solvers/linear_solver/petsc/parameters\")\n",
    "        fileobject.write_input()\n",
    "        fileobject.run_model(path=\"/home/buchwalj/github/ogs/build_mkl_petsc/bin\", logfile=f\"{folder}/mumps.out\")\n",
    "    exec_time = fileobject.exec_time\n",
    "    return exec_time"
   ]
  },
  {
   "cell_type": "code",
   "execution_count": 7,
   "id": "53f30d04-72e7-45f1-ad39-a1210cb7e899",
   "metadata": {
    "tags": []
   },
   "outputs": [
    {
     "name": "stdout",
     "output_type": "stream",
     "text": [
      "OGS finished with project file /home/buchwalj/OGS_Solver_Comparison/data/sims/SparseLU-TRF.prj.\n",
      "Execution took 8.69088864326477 s\n",
      "OGS finished with project file /home/buchwalj/OGS_Solver_Comparison/data/sims/SparseLU-TRF.prj.\n",
      "Execution took 8.69527530670166 s\n",
      "OGS finished with project file /home/buchwalj/OGS_Solver_Comparison/data/sims/SparseLU-TRF.prj.\n",
      "Execution took 10.662754535675049 s\n",
      "OGS finished with project file /home/buchwalj/OGS_Solver_Comparison/data/sims/SparseLU-TRF.prj.\n",
      "Execution took 10.932161092758179 s\n",
      "OGS finished with project file /home/buchwalj/OGS_Solver_Comparison/data/sims/SparseLU-TRF.prj.\n",
      "Execution took 10.880414724349976 s\n",
      "OGS finished with project file /home/buchwalj/OGS_Solver_Comparison/data/sims/SparseLU-TRF.prj.\n",
      "Execution took 10.89670991897583 s\n",
      "OGS finished with project file /home/buchwalj/OGS_Solver_Comparison/data/sims/SparseLU-TRF.prj.\n",
      "Execution took 10.94789743423462 s\n",
      "OGS finished with project file /home/buchwalj/OGS_Solver_Comparison/data/sims/SparseLU-TRF.prj.\n",
      "Execution took 10.854444026947021 s\n",
      "OGS finished with project file /home/buchwalj/OGS_Solver_Comparison/data/sims/SparseLU-TRF.prj.\n",
      "Execution took 10.822060108184814 s\n",
      "OGS finished with project file /home/buchwalj/OGS_Solver_Comparison/data/sims/SparseLU-TRF.prj.\n",
      "Execution took 10.861013174057007 s\n",
      "OGS execution not successfull. Error code: 1\n"
     ]
    },
    {
     "ename": "RuntimeError",
     "evalue": "",
     "output_type": "error",
     "traceback": [
      "\u001b[0;31m---------------------------------------------------------------------------\u001b[0m",
      "\u001b[0;31mRuntimeError\u001b[0m                              Traceback (most recent call last)",
      "\u001b[0;32m/tmp/ipykernel_23495/816266186.py\u001b[0m in \u001b[0;36m<module>\u001b[0;34m\u001b[0m\n\u001b[1;32m      5\u001b[0m         \u001b[0msolver_\u001b[0m \u001b[0;34m=\u001b[0m \u001b[0msolver\u001b[0m\u001b[0;34m.\u001b[0m\u001b[0msplit\u001b[0m\u001b[0;34m(\u001b[0m\u001b[0;34m\"/\"\u001b[0m\u001b[0;34m)\u001b[0m\u001b[0;34m[\u001b[0m\u001b[0;34m-\u001b[0m\u001b[0;36m1\u001b[0m\u001b[0;34m]\u001b[0m\u001b[0;34m\u001b[0m\u001b[0;34m\u001b[0m\u001b[0m\n\u001b[1;32m      6\u001b[0m         \u001b[0mm\u001b[0m \u001b[0;34m=\u001b[0m \u001b[0mOGS\u001b[0m\u001b[0;34m(\u001b[0m\u001b[0mINPUT_FILE\u001b[0m\u001b[0;34m=\u001b[0m\u001b[0;34mf\"{folder}/Decovalex-0-TRF.prj\"\u001b[0m\u001b[0;34m,\u001b[0m \u001b[0mPROJECT_FILE\u001b[0m\u001b[0;34m=\u001b[0m\u001b[0;34mf\"{folder}/{solver_}-TRF.prj\"\u001b[0m\u001b[0;34m,\u001b[0m \u001b[0mMKL\u001b[0m\u001b[0;34m=\u001b[0m\u001b[0;32mTrue\u001b[0m\u001b[0;34m,\u001b[0m \u001b[0mOMP_NUM_THREADS\u001b[0m\u001b[0;34m=\u001b[0m\u001b[0;36m4\u001b[0m\u001b[0;34m)\u001b[0m\u001b[0;34m\u001b[0m\u001b[0;34m\u001b[0m\u001b[0m\n\u001b[0;32m----> 7\u001b[0;31m         \u001b[0mexec_time\u001b[0m\u001b[0;34m[\u001b[0m\u001b[0msolver\u001b[0m\u001b[0;34m]\u001b[0m\u001b[0;34m.\u001b[0m\u001b[0mappend\u001b[0m\u001b[0;34m(\u001b[0m\u001b[0msetSolver\u001b[0m\u001b[0;34m(\u001b[0m\u001b[0mm\u001b[0m\u001b[0;34m,\u001b[0m \u001b[0msolver\u001b[0m\u001b[0;34m)\u001b[0m\u001b[0;34m)\u001b[0m\u001b[0;34m\u001b[0m\u001b[0;34m\u001b[0m\u001b[0m\n\u001b[0m",
      "\u001b[0;32m/tmp/ipykernel_23495/2506457847.py\u001b[0m in \u001b[0;36msetSolver\u001b[0;34m(fileobject, solver)\u001b[0m\n\u001b[1;32m     12\u001b[0m         \u001b[0mfileobject\u001b[0m\u001b[0;34m.\u001b[0m\u001b[0mreplace_text\u001b[0m\u001b[0;34m(\u001b[0m\u001b[0;34m\"-hc_mat_type aij -hc_pc_type lu -hc_pc_factor_mat_solver_type superlu_dist -hc_ksp_view\"\u001b[0m\u001b[0;34m,\u001b[0m \u001b[0mxpath\u001b[0m\u001b[0;34m=\u001b[0m\u001b[0;34m\"./linear_solvers/linear_solver/petsc/parameters\"\u001b[0m\u001b[0;34m)\u001b[0m\u001b[0;34m\u001b[0m\u001b[0;34m\u001b[0m\u001b[0m\n\u001b[1;32m     13\u001b[0m         \u001b[0mfileobject\u001b[0m\u001b[0;34m.\u001b[0m\u001b[0mwrite_input\u001b[0m\u001b[0;34m(\u001b[0m\u001b[0;34m)\u001b[0m\u001b[0;34m\u001b[0m\u001b[0;34m\u001b[0m\u001b[0m\n\u001b[0;32m---> 14\u001b[0;31m         \u001b[0mfileobject\u001b[0m\u001b[0;34m.\u001b[0m\u001b[0mrun_model\u001b[0m\u001b[0;34m(\u001b[0m\u001b[0mpath\u001b[0m\u001b[0;34m=\u001b[0m\u001b[0;34m\"/home/buchwalj/github/ogs/build_mkl_petsc/bin\"\u001b[0m\u001b[0;34m,\u001b[0m \u001b[0mlogfile\u001b[0m\u001b[0;34m=\u001b[0m\u001b[0;34mf\"{folder}/superlu.out\"\u001b[0m\u001b[0;34m)\u001b[0m\u001b[0;34m\u001b[0m\u001b[0;34m\u001b[0m\u001b[0m\n\u001b[0m\u001b[1;32m     15\u001b[0m     \u001b[0;32melif\u001b[0m \u001b[0msolver\u001b[0m \u001b[0;34m==\u001b[0m \u001b[0;34m\"PETSc/MUMPS\"\u001b[0m\u001b[0;34m:\u001b[0m\u001b[0;34m\u001b[0m\u001b[0;34m\u001b[0m\u001b[0m\n\u001b[1;32m     16\u001b[0m         \u001b[0mfileobject\u001b[0m\u001b[0;34m.\u001b[0m\u001b[0mreplace_text\u001b[0m\u001b[0;34m(\u001b[0m\u001b[0;34m\"-hc_mat_type aij -hc_pc_type lu -hc_pc_factor_mat_solver_type mumps -hc_ksp_view\"\u001b[0m\u001b[0;34m,\u001b[0m \u001b[0mxpath\u001b[0m\u001b[0;34m=\u001b[0m\u001b[0;34m\"./linear_solvers/linear_solver/petsc/parameters\"\u001b[0m\u001b[0;34m)\u001b[0m\u001b[0;34m\u001b[0m\u001b[0;34m\u001b[0m\u001b[0m\n",
      "\u001b[0;32m~/.local/lib/python3.9/site-packages/ogs6py/ogs.py\u001b[0m in \u001b[0;36mrun_model\u001b[0;34m(self, **args)\u001b[0m\n\u001b[1;32m    127\u001b[0m         \u001b[0;32melse\u001b[0m\u001b[0;34m:\u001b[0m\u001b[0;34m\u001b[0m\u001b[0;34m\u001b[0m\u001b[0m\n\u001b[1;32m    128\u001b[0m             \u001b[0mprint\u001b[0m\u001b[0;34m(\u001b[0m\u001b[0;34mf\"OGS execution not successfull. Error code: {returncode.returncode}\"\u001b[0m\u001b[0;34m)\u001b[0m\u001b[0;34m\u001b[0m\u001b[0;34m\u001b[0m\u001b[0m\n\u001b[0;32m--> 129\u001b[0;31m             \u001b[0;32mraise\u001b[0m \u001b[0mRuntimeError\u001b[0m\u001b[0;34m\u001b[0m\u001b[0;34m\u001b[0m\u001b[0m\n\u001b[0m\u001b[1;32m    130\u001b[0m \u001b[0;34m\u001b[0m\u001b[0m\n\u001b[1;32m    131\u001b[0m     \u001b[0;32mdef\u001b[0m \u001b[0m__dict2xml\u001b[0m\u001b[0;34m(\u001b[0m\u001b[0mself\u001b[0m\u001b[0;34m,\u001b[0m \u001b[0mparent\u001b[0m\u001b[0;34m,\u001b[0m \u001b[0mdictionary\u001b[0m\u001b[0;34m)\u001b[0m\u001b[0;34m:\u001b[0m\u001b[0;34m\u001b[0m\u001b[0;34m\u001b[0m\u001b[0m\n",
      "\u001b[0;31mRuntimeError\u001b[0m: "
     ]
    }
   ],
   "source": [
    "exec_time = {}\n",
    "for solver in solvers:\n",
    "    exec_time[solver] = []\n",
    "    for i in range(runs):\n",
    "        solver_ = solver.split(\"/\")[-1]\n",
    "        m = OGS(INPUT_FILE=f\"{folder}/Decovalex-0-TRF.prj\", PROJECT_FILE=f\"{folder}/{solver_}-TRF.prj\", MKL=True, OMP_NUM_THREADS=4)\n",
    "        exec_time[solver].append(setSolver(m, solver))"
   ]
  },
  {
   "cell_type": "code",
   "execution_count": null,
   "id": "0832b4b8-7d36-4718-8e4f-67b5dad916de",
   "metadata": {},
   "outputs": [],
   "source": [
    "fig = plt.figure()\n",
    "ax = fig.add_axes([0,0,1,1])\n",
    "ax.bar(solvers,[np.sum(exec_time[solver])/runs for solver in solvers])\n",
    "plt.show()"
   ]
  },
  {
   "cell_type": "code",
   "execution_count": null,
   "id": "6e0b3290-f006-4344-bb64-d42e4721fb5d",
   "metadata": {},
   "outputs": [],
   "source": [
    "[np.sum(exec_time[solver])/runs for solver in solvers]"
   ]
  },
  {
   "cell_type": "code",
   "execution_count": null,
   "id": "d7dae2a8-e78c-4459-bbf5-6e3f2c490d01",
   "metadata": {},
   "outputs": [],
   "source": []
  }
 ],
 "metadata": {
  "kernelspec": {
   "display_name": "Python 3 (ipykernel)",
   "language": "python",
   "name": "python3"
  },
  "language_info": {
   "codemirror_mode": {
    "name": "ipython",
    "version": 3
   },
   "file_extension": ".py",
   "mimetype": "text/x-python",
   "name": "python",
   "nbconvert_exporter": "python",
   "pygments_lexer": "ipython3",
   "version": "3.9.6"
  }
 },
 "nbformat": 4,
 "nbformat_minor": 5
}
